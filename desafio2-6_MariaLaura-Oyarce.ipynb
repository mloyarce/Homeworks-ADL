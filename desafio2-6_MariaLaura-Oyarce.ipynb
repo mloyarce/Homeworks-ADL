{
 "cells": [
  {
   "cell_type": "markdown",
   "id": "e986fcbb-8477-4884-87c1-dad0e8002647",
   "metadata": {},
   "source": [
    "# Desafío - Transformación y manipulación de datos (Parte II) - Maria Laura Oyarce"
   ]
  },
  {
   "cell_type": "markdown",
   "id": "c36c4a83-fcd1-406e-a4ec-e0620f91e92c",
   "metadata": {},
   "source": [
    "#### Para resolver este desafío deberás cargar datos desde Hojas de Excel del archivo US_Regional_Sales_Data.xlsx. En base a esto, debe generar una visualización de datos como la que se muestra en las hojas Reporte1 y Reporte2 del archivo reporte.xlsx. Para cumplir con lo solicitado, puedes aplicar los siguientes pasos:"
   ]
  },
  {
   "cell_type": "markdown",
   "id": "a98a6f03-835a-4f56-899c-4d46c7755f4d",
   "metadata": {},
   "source": [
    "1. Carga los datos de cada pestaña del archivo US_Regional_Sales_Data.xlsx en un DataFrame independiente. (hint: Puedes obtener los nombres de las hojas usando pd.ExcelFile(archivo).sheet_names)"
   ]
  },
  {
   "cell_type": "code",
   "execution_count": 1,
   "id": "05688d04-0139-4712-9f53-4e1b185d9abf",
   "metadata": {},
   "outputs": [
    {
     "name": "stdout",
     "output_type": "stream",
     "text": [
      "Hojas disponibles en el archivo: ['Sales Orders Sheet', 'Customers Sheet', 'Store Locations Sheet', 'Products Sheet', 'Sales Team Sheet']\n",
      "Hoja Sales Orders Sheet, Tamaño: (7991, 16)\n",
      "Index(['OrderNumber', 'Sales Channel', 'WarehouseCode', 'ProcuredDate',\n",
      "       'OrderDate', 'ShipDate', 'DeliveryDate', 'CurrencyCode', '_SalesTeamID',\n",
      "       '_CustomerID', '_StoreID', '_ProductID', 'Order Quantity',\n",
      "       'Discount Applied', 'Unit Price', 'Unit Cost'],\n",
      "      dtype='object')\n",
      "Hoja Customers Sheet, Tamaño: (50, 2)\n",
      "Index(['_CustomerID', 'Customer Names'], dtype='object')\n",
      "Hoja Store Locations Sheet, Tamaño: (367, 15)\n",
      "Index(['_StoreID', 'City Name', 'County', 'StateCode', 'State', 'Type',\n",
      "       'Latitude', 'Longitude', 'AreaCode', 'Population', 'Household Income',\n",
      "       'Median Income', 'Land Area', 'Water Area', 'Time Zone'],\n",
      "      dtype='object')\n",
      "Hoja Products Sheet, Tamaño: (47, 2)\n",
      "Index(['_ProductID', 'Product Name'], dtype='object')\n",
      "Hoja Sales Team Sheet, Tamaño: (28, 3)\n",
      "Index(['_SalesTeamID', 'Sales Team', 'Region'], dtype='object')\n"
     ]
    }
   ],
   "source": [
    "import pandas as pd\n",
    "\n",
    "#Primero obtenemos el nombre de las hojas\n",
    "sheet_names = pd.ExcelFile('US_Regional_Sales_Data.xlsx').sheet_names\n",
    "print('Hojas disponibles en el archivo:', sheet_names)\n",
    "\n",
    "#Cargamos las hojas en distintos dataframes\n",
    "dataframes = {sheet: pd.read_excel('US_Regional_Sales_Data.xlsx', sheet_name=sheet) for sheet in sheet_names}\n",
    "\n",
    "#Veamos la cantidad de filas y columnas de cada hoja o dataframe\n",
    "for sheet, df in dataframes.items():\n",
    "    print(f'Hoja {sheet}, Tamaño: {df.shape}')\n",
    "    print (df.columns)"
   ]
  },
  {
   "cell_type": "markdown",
   "id": "e4396007-5749-43e5-a979-04231913ad90",
   "metadata": {},
   "source": [
    "2. Cruza todos los DataFrames usando validación many_to_one, y guarda el resultado en una nueva variable llamada df_base."
   ]
  },
  {
   "cell_type": "code",
   "execution_count": 2,
   "id": "e8d423bd-c374-4f37-9e74-2be1e07fa01b",
   "metadata": {},
   "outputs": [
    {
     "name": "stdout",
     "output_type": "stream",
     "text": [
      "Tamaño del DataFrame base: (7991, 34)\n",
      "Columnas del DataFrame base: Index(['OrderNumber', 'Sales Channel', 'WarehouseCode', 'ProcuredDate',\n",
      "       'OrderDate', 'ShipDate', 'DeliveryDate', 'CurrencyCode', '_SalesTeamID',\n",
      "       '_CustomerID', '_StoreID', '_ProductID', 'Order Quantity',\n",
      "       'Discount Applied', 'Unit Price', 'Unit Cost', 'Customer Names',\n",
      "       'City Name', 'County', 'StateCode', 'State', 'Type', 'Latitude',\n",
      "       'Longitude', 'AreaCode', 'Population', 'Household Income',\n",
      "       'Median Income', 'Land Area', 'Water Area', 'Time Zone', 'Product Name',\n",
      "       'Sales Team', 'Region'],\n",
      "      dtype='object')\n"
     ]
    }
   ],
   "source": [
    "#Cruzamos todos los dataframes para crear uno final\n",
    "\n",
    "df_base = (dataframes['Sales Orders Sheet']\n",
    "    .merge(dataframes['Customers Sheet'], on='_CustomerID', how='left')\n",
    "    .merge(dataframes['Store Locations Sheet'], on='_StoreID', how='left')\n",
    "    .merge(dataframes['Products Sheet'], on='_ProductID', how='left')\n",
    "    .merge(dataframes['Sales Team Sheet'], on='_SalesTeamID', how='left'))\n",
    "\n",
    "#Verificamos el tamaño y las columnas del dataframe resultante\n",
    "print(\"Tamaño del DataFrame base:\", df_base.shape)\n",
    "print(\"Columnas del DataFrame base:\", df_base.columns)"
   ]
  },
  {
   "cell_type": "markdown",
   "id": "6d96646c-4d15-4686-91c6-64c79f0d3491",
   "metadata": {},
   "source": [
    "3. Agrega las siguientes columnas a df_ base: hint: Asegúrate de que las columnas sean de tipo datetime.\n",
    " <img src='tabla1.png'>\n",
    " <img src='tabla2.png'>"
   ]
  },
  {
   "cell_type": "code",
   "execution_count": 3,
   "id": "1ebf0b03-b907-4bf3-8b86-9477b9b2e204",
   "metadata": {},
   "outputs": [
    {
     "name": "stdout",
     "output_type": "stream",
     "text": [
      "   ProcurementDays  ShippingDays  DeliveryDays  CustomerDays\n",
      "0              151            14             5            19\n",
      "1              151            22            10            32\n",
      "2              151            21            10            31\n",
      "3              151             2             5             7\n",
      "4               51            16            10            26\n"
     ]
    }
   ],
   "source": [
    "#Nos aseguramos que las columnas sean de tipo datetime\n",
    "date_columns = ['ProcuredDate', 'OrderDate', 'ShipDate', 'DeliveryDate']\n",
    "for col in date_columns:\n",
    "    df_base[col] = pd.to_datetime(df_base[col], errors='coerce')\n",
    "\n",
    "#Creamos las columnas pedidas en el df_base\n",
    "df_base['ProcurementDays'] = (df_base['OrderDate'] - df_base['ProcuredDate']).dt.days\n",
    "df_base['ShippingDays'] = (df_base['ShipDate'] - df_base['OrderDate']).dt.days\n",
    "df_base['DeliveryDays'] = (df_base['DeliveryDate'] - df_base['ShipDate']).dt.days\n",
    "df_base['CustomerDays'] = df_base['ShippingDays'] + df_base['DeliveryDays']\n",
    "\n",
    "#Mostramos las nuevas columnas para corroborar que se hizo bien el proceso\n",
    "print(df_base[['ProcurementDays', 'ShippingDays', 'DeliveryDays', 'CustomerDays']].head())"
   ]
  },
  {
   "cell_type": "markdown",
   "id": "1e3ebac4-735e-43c8-97d8-9740385a8d12",
   "metadata": {},
   "source": [
    "4. Agrega una nueva columna discreta al df_base, con el nombre CustomerDaysInterval que clasifique los valores de la columna CustomerDays en los siguientes intervalos:\n",
    "- 0 to 15 days\n",
    "- 15 to 30 days\n",
    "- 30 to 45 days\n",
    "- 45 to 60 days\n",
    "- 60 to 75 days\n",
    "- 75 to 90 days\n",
    "\n",
    "hint: Utiliza pd.cut con estas etiquetas de Intervalo. Puedes utilizar la propiedad `.dt.days` para convertir la columna CustomerDays a valores numéricos. La propiedad `.dt.days` te permite obtener directamente la representación numérica de\n",
    "la diferencia en días a partir de un objeto DateInterval."
   ]
  },
  {
   "cell_type": "code",
   "execution_count": 4,
   "id": "c388be52-68c7-4f76-82c3-8be17a826ca3",
   "metadata": {},
   "outputs": [
    {
     "name": "stdout",
     "output_type": "stream",
     "text": [
      "   CustomerDays CustomerDaysInterval\n",
      "0            19        15 to 30 days\n",
      "1            32        30 to 45 days\n",
      "2            31        30 to 45 days\n",
      "3             7         0 to 15 days\n",
      "4            26        15 to 30 days\n"
     ]
    }
   ],
   "source": [
    "#Creamos los intervalos y sus etiquetas\n",
    "intervalos = [0, 15, 30, 45, 60, 75, 90]\n",
    "etiquetas = ['0 to 15 days', '15 to 30 days', '30 to 45 days', '45 to 60 days',\n",
    "             '60 to 75 days', '75 to 90 days']\n",
    "\n",
    "#Creamos la columna 'CustomerDaysInterval'\n",
    "df_base['CustomerDaysInterval'] = pd.cut(df_base['CustomerDays'], bins=intervalos, labels=etiquetas)\n",
    "\n",
    "#Comprobamos que se haya hecho bien el proceso\n",
    "print(df_base[['CustomerDays', 'CustomerDaysInterval']].head())"
   ]
  },
  {
   "cell_type": "markdown",
   "id": "63775aba-b23c-43e6-8224-64ecbb6ca520",
   "metadata": {},
   "source": [
    "5. Utiliza una tabla pivote para mostrar el conteo de órdenes agrupando por Sales Team en las filas y CustomerDaysInterval en las columnas. Este reporte debe cuadrar con los datos de la pestaña Reporte1 del archivo reportes.xlsx"
   ]
  },
  {
   "cell_type": "code",
   "execution_count": 5,
   "id": "524c1b70-9a31-4226-ab0c-e37d947cb372",
   "metadata": {},
   "outputs": [
    {
     "name": "stdout",
     "output_type": "stream",
     "text": [
      "CustomerDaysInterval  0 to 15 days  15 to 30 days  30 to 45 days  \\\n",
      "Sales Team                                                         \n",
      "Adam Hernandez                  81            179             42   \n",
      "Anthony Berry                   76            181             41   \n",
      "Anthony Torres                  81            162             45   \n",
      "Carl Nguyen                     96            178             40   \n",
      "Carlos Miller                   65            148             34   \n",
      "Chris Armstrong                 92            156             44   \n",
      "Donald Reynolds                 97            163             36   \n",
      "Douglas Tucker                  87            145             45   \n",
      "Frank Brown                     85            150             40   \n",
      "George Lewis                   104            169             42   \n",
      "Jerry Green                     85            165             46   \n",
      "Joe Price                       87            138             41   \n",
      "Jonathan Hawkins                81            143             36   \n",
      "Joshua Bennett                  85            148             32   \n",
      "Joshua Little                   83            165             41   \n",
      "Joshua Ryan                     83            166             36   \n",
      "Keith Griffin                   94            127             25   \n",
      "Nicholas Cunningham             88            171             34   \n",
      "Patrick Graham                  92            130             37   \n",
      "Paul Holmes                     61            159             41   \n",
      "Roger Alexander                 82            147             42   \n",
      "Roy Rice                        75            166             43   \n",
      "Samuel Fowler                   90            162             44   \n",
      "Shawn Cook                      88            175             40   \n",
      "Shawn Torres                    77            160             37   \n",
      "Shawn Wallace                   95            168             53   \n",
      "Stephen Payne                   97            156             30   \n",
      "Todd Roberts                   113            187             40   \n",
      "\n",
      "CustomerDaysInterval  45 to 60 days  60 to 75 days  75 to 90 days  \n",
      "Sales Team                                                         \n",
      "Adam Hernandez                    0              0              0  \n",
      "Anthony Berry                     0              0              0  \n",
      "Anthony Torres                    0              0              0  \n",
      "Carl Nguyen                       0              0              0  \n",
      "Carlos Miller                     0              0              0  \n",
      "Chris Armstrong                   0              0              0  \n",
      "Donald Reynolds                   0              0              0  \n",
      "Douglas Tucker                    0              0              0  \n",
      "Frank Brown                       0              0              0  \n",
      "George Lewis                      0              0              0  \n",
      "Jerry Green                       0              0              0  \n",
      "Joe Price                         0              0              0  \n",
      "Jonathan Hawkins                  0              0              0  \n",
      "Joshua Bennett                    0              0              0  \n",
      "Joshua Little                     0              0              0  \n",
      "Joshua Ryan                       0              0              0  \n",
      "Keith Griffin                     0              0              0  \n",
      "Nicholas Cunningham               0              0              0  \n",
      "Patrick Graham                    0              0              0  \n",
      "Paul Holmes                       0              0              0  \n",
      "Roger Alexander                   0              0              0  \n",
      "Roy Rice                          0              0              0  \n",
      "Samuel Fowler                     0              0              0  \n",
      "Shawn Cook                        0              0              0  \n",
      "Shawn Torres                      0              0              0  \n",
      "Shawn Wallace                     0              0              0  \n",
      "Stephen Payne                     0              0              0  \n",
      "Todd Roberts                      0              0              0  \n"
     ]
    }
   ],
   "source": [
    "pivot_orders = pd.pivot_table(\n",
    "    df_base, \n",
    "    index='Sales Team', \n",
    "    columns='CustomerDaysInterval', \n",
    "    values='OrderNumber',  #Contamos por 'OrderNumber' o cualquier identificador de orden\n",
    "    aggfunc='count') #Contamos la cantidad de registros por combinación de Sales Team e intervalos\n",
    "\n",
    "#Mostramos la tabla pivote\n",
    "print(pivot_orders)"
   ]
  },
  {
   "cell_type": "markdown",
   "id": "395cd3df-144d-4316-99f6-4cbfb08eb0e5",
   "metadata": {},
   "source": [
    "Segun esta tabla pivote, ningun equipo tiene ordenes completadas en un tiempo mayor a 45 días y que el equipo de Todd Roberts es el equipo que completó más órdenes en menos de 15 días."
   ]
  },
  {
   "cell_type": "markdown",
   "id": "11d2a444-bf13-4874-8d12-8e05646a28f1",
   "metadata": {},
   "source": [
    "6. Agrega la siguiente columna calculada a la base:\n",
    "<img src='tabla3.png'>"
   ]
  },
  {
   "cell_type": "code",
   "execution_count": 6,
   "id": "6def257a-a210-40cc-bbf1-735135dec91f",
   "metadata": {},
   "outputs": [
    {
     "name": "stdout",
     "output_type": "stream",
     "text": [
      "   Order Quantity  Unit Price  Discount Applied  Unit Cost  GrossMargin\n",
      "0               5      1963.1             0.075   1001.181    4073.4325\n",
      "1               3      3939.6             0.075   3348.660     886.4100\n",
      "2               1      1775.5             0.050    781.220     905.5050\n",
      "3               8      2324.9             0.075   1464.687    5486.7640\n",
      "4               8      1822.4             0.100   1476.144    1312.1280\n"
     ]
    }
   ],
   "source": [
    "#Calculamos la columna GrossMargin\n",
    "df_base['GrossMargin'] = df_base['Order Quantity'] * (\n",
    "    df_base['Unit Price'] * (1 - df_base['Discount Applied']) - df_base['Unit Cost'])\n",
    "\n",
    "#Verificamos el resultado\n",
    "print(df_base[['Order Quantity', 'Unit Price', 'Discount Applied', 'Unit Cost', 'GrossMargin']].head())"
   ]
  },
  {
   "cell_type": "markdown",
   "id": "db6e63e7-09fc-48f8-8f9c-5f60fdb6f7ee",
   "metadata": {},
   "source": [
    "7. En esta parte debes aplicar un porcentaje a la columna GrossMargin, pero ese porcentaje dependerá del intervalo en que se encuentre GrossMargin. hint: Utiliza pd.cut con labels numéricas para que la columna resultante sea de tipo float.\n",
    "<img src='tabla4.png'>"
   ]
  },
  {
   "cell_type": "code",
   "execution_count": 7,
   "id": "ba3bb6b3-cf79-40bc-82de-7676d06ea7c2",
   "metadata": {},
   "outputs": [
    {
     "name": "stdout",
     "output_type": "stream",
     "text": [
      "   GrossMargin  CommissionsPercentage\n",
      "0    4073.4325                   0.15\n",
      "1     886.4100                   0.10\n",
      "2     905.5050                   0.10\n",
      "3    5486.7640                   0.15\n",
      "4    1312.1280                   0.15\n"
     ]
    }
   ],
   "source": [
    "#Definimos los intervalos y las etiquetas\n",
    "intervalos_comision = [0, 100, 1000, 10000, 100000]\n",
    "comisiones = [0.05, 0.10, 0.15, 0.20]\n",
    "\n",
    "#Creamos la columna CommissionsPercentage\n",
    "df_base['CommissionsPercentage'] = pd.cut(\n",
    "    df_base['GrossMargin'], \n",
    "    bins=intervalos_comision, \n",
    "    labels=comisiones).astype(float) #nos aseguramos que sea flo\n",
    "\n",
    "# Verificar el resultado\n",
    "print(df_base[['GrossMargin', 'CommissionsPercentage']].head())"
   ]
  },
  {
   "cell_type": "markdown",
   "id": "bce8226d-4035-42a9-8e97-66b34eed6c2b",
   "metadata": {},
   "source": [
    "8. Calcula el monto de la comisión, utilizando la Tabla del Anexo.\n",
    "<img src='tabla5.png'>"
   ]
  },
  {
   "cell_type": "code",
   "execution_count": 8,
   "id": "b9dbe8bf-d426-4d87-a253-a90405a4da4f",
   "metadata": {},
   "outputs": [
    {
     "name": "stdout",
     "output_type": "stream",
     "text": [
      "   GrossMargin  CommissionsPercentage  CommissionsAmount\n",
      "0    4073.4325                   0.15         611.014875\n",
      "1     886.4100                   0.10          88.641000\n",
      "2     905.5050                   0.10          90.550500\n",
      "3    5486.7640                   0.15         823.014600\n",
      "4    1312.1280                   0.15         196.819200\n"
     ]
    }
   ],
   "source": [
    "#Creamos la columna CommissionsAmount\n",
    "df_base['CommissionsAmount'] = df_base['GrossMargin'] * df_base['CommissionsPercentage']\n",
    "\n",
    "#Verificamos los resultados\n",
    "print(df_base[['GrossMargin', 'CommissionsPercentage', 'CommissionsAmount']].head())"
   ]
  },
  {
   "cell_type": "markdown",
   "id": "270725e5-d9d4-43b8-b3dc-a7f8bbac6a19",
   "metadata": {},
   "source": [
    "9. Calcula la comisión sobre el margen bruto.\n",
    "<img src='tabla6.png'>"
   ]
  },
  {
   "cell_type": "code",
   "execution_count": 9,
   "id": "1001e924-045e-43f6-b6ab-ef64bb23316b",
   "metadata": {},
   "outputs": [
    {
     "name": "stdout",
     "output_type": "stream",
     "text": [
      "   GrossMargin  CommissionsAmount    NetMargin\n",
      "0    4073.4325         611.014875  3462.417625\n",
      "1     886.4100          88.641000   797.769000\n",
      "2     905.5050          90.550500   814.954500\n",
      "3    5486.7640         823.014600  4663.749400\n",
      "4    1312.1280         196.819200  1115.308800\n"
     ]
    }
   ],
   "source": [
    "#Creamos la columna NetMargin\n",
    "df_base['NetMargin'] = df_base['GrossMargin'] - df_base['CommissionsAmount']\n",
    "\n",
    "#Verificamos los resultados\n",
    "print(df_base[['GrossMargin', 'CommissionsAmount','NetMargin']].head())"
   ]
  },
  {
   "cell_type": "markdown",
   "id": "5b2353ef-89fb-4479-9f82-678fcc74db2d",
   "metadata": {},
   "source": [
    "10. Utilizando una tabla pivote, muestra la suma de los valores GrossMargin, NetMargin y CommissionAmount agrupando por Sales Team en las filas. Este reporte debe cuadrar con los datos de la pestaña Reporte2 del archivo reportes.xlsx"
   ]
  },
  {
   "cell_type": "code",
   "execution_count": 10,
   "id": "55d0912f-8f8e-4e50-aba7-3ffa6bb89625",
   "metadata": {},
   "outputs": [
    {
     "name": "stdout",
     "output_type": "stream",
     "text": [
      "                     CommissionsAmount  GrossMargin      NetMargin\n",
      "Sales Team                                                        \n",
      "Adam Hernandez           126637.207525  779095.1955  677987.332975\n",
      "Anthony Berry            124061.181475  767943.9500  654798.341525\n",
      "Anthony Torres           117962.211675  743901.4355  636758.048825\n",
      "Carl Nguyen              123843.212050  774781.4675  661874.732450\n",
      "Carlos Miller            110882.093875  668752.9290  580326.019125\n",
      "Chris Armstrong          122565.707975  781608.7005  660857.419525\n",
      "Donald Reynolds          143768.338700  885386.8095  754038.260800\n",
      "Douglas Tucker           120806.403550  745528.5640  633786.054450\n",
      "Frank Brown              104839.466050  670881.2510  570076.792950\n",
      "George Lewis             136852.255325  839150.7460  710824.776675\n",
      "Jerry Green              126660.436425  788587.7555  670379.034075\n",
      "Joe Price                128822.930100  787707.4425  662662.106400\n",
      "Jonathan Hawkins         126216.945000  781391.5870  664629.883000\n",
      "Joshua Bennett           108049.111100  661726.5385  569242.063400\n",
      "Joshua Little            135806.234575  840321.1690  713901.232425\n",
      "Joshua Ryan              114204.905275  702157.8225  606904.872225\n",
      "Keith Griffin            112940.122825  675453.5990  599688.292175\n",
      "Nicholas Cunningham      127833.003425  792644.9405  683164.577075\n",
      "Patrick Graham           121650.864850  746394.0030  632286.065150\n",
      "Paul Holmes              114224.889700  705564.6050  598867.366300\n",
      "Roger Alexander          122487.895850  773027.6755  658323.839650\n",
      "Roy Rice                 134547.055000  831446.6170  706877.202000\n",
      "Samuel Fowler            129367.145975  793254.8750  671208.953025\n",
      "Shawn Cook               135986.295400  854878.0245  724349.214100\n",
      "Shawn Torres             114290.961750  705619.6120  600950.386250\n",
      "Shawn Wallace            116942.051250  726737.6770  624236.470750\n",
      "Stephen Payne            116111.480725  707156.7930  606241.582275\n",
      "Todd Roberts             125832.140550  794225.3700  692123.624450\n"
     ]
    }
   ],
   "source": [
    "#Creamos la tabla\n",
    "pivot_final = pd.pivot_table(\n",
    "    df_base,\n",
    "    index='Sales Team',  #Filas: Sales Team\n",
    "    values=['GrossMargin', 'NetMargin', 'CommissionsAmount'],  #Columnas a sumar\n",
    "    aggfunc='sum')  #Sumamos los valores\n",
    "\n",
    "#Mostramos la tabla pivote\n",
    "print(pivot_final)"
   ]
  },
  {
   "cell_type": "code",
   "execution_count": 11,
   "id": "42a33f2d-3c82-4602-9e23-84cb8742ec73",
   "metadata": {},
   "outputs": [
    {
     "name": "stdout",
     "output_type": "stream",
     "text": [
      "       Sales Team  CommissionAmount  Gross Margin  Net Margin\n",
      "0  Adam Hernandez         126637.21     779095.20   677987.33\n",
      "1   Anthony Berry         124061.18     767943.95   654798.34\n",
      "2  Anthony Torres         117962.21     743901.44   636758.05\n",
      "3     Carl Nguyen         123843.21     774781.47   661874.73\n",
      "4   Carlos Miller         110882.09     668752.93   580326.02\n"
     ]
    }
   ],
   "source": [
    "reporte2_df = pd.read_excel('reportes.xlsx', sheet_name='Reporte2')\n",
    "\n",
    "print(reporte2_df.head())"
   ]
  },
  {
   "cell_type": "markdown",
   "id": "4e3f1b25-9c01-469d-a224-fbe456e4c8d5",
   "metadata": {},
   "source": [
    "Finalmente nuestra tabla pivote coincide con el Reporte 2 del excel de reportes 🥳"
   ]
  },
  {
   "cell_type": "markdown",
   "id": "34c24f0c-fefe-4e4e-ae43-fa4c86e97e9f",
   "metadata": {},
   "source": [
    "Anexo\n",
    "Tabla de comisiones\n",
    "<img src='tabla7.png'>"
   ]
  },
  {
   "cell_type": "code",
   "execution_count": null,
   "id": "8cf466d4-4e99-42e9-ba23-df0200477e27",
   "metadata": {},
   "outputs": [],
   "source": []
  }
 ],
 "metadata": {
  "kernelspec": {
   "display_name": "Python 3 (ipykernel)",
   "language": "python",
   "name": "python3"
  },
  "language_info": {
   "codemirror_mode": {
    "name": "ipython",
    "version": 3
   },
   "file_extension": ".py",
   "mimetype": "text/x-python",
   "name": "python",
   "nbconvert_exporter": "python",
   "pygments_lexer": "ipython3",
   "version": "3.10.12"
  }
 },
 "nbformat": 4,
 "nbformat_minor": 5
}
