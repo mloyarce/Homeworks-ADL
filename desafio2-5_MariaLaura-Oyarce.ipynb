{
 "cells": [
  {
   "cell_type": "markdown",
   "id": "ac92083a-63c4-4fe1-ad5f-f4c6383fd46f",
   "metadata": {},
   "source": [
    "# Desafío - Manipulación y transformación de datos (Parte I) - Maria Laura Oyarce"
   ]
  },
  {
   "cell_type": "markdown",
   "id": "185bfbe2-7868-4144-aa75-b8ec9c085303",
   "metadata": {},
   "source": [
    "### 1. Para desarrollar este desafío necesitarás los siguientes archivos:\n",
    "● incidents.pkl\n",
    "\n",
    "● ocers.pkl\n",
    "\n",
    "● subjects.pkl"
   ]
  },
  {
   "cell_type": "markdown",
   "id": "ac4e6e69-0847-454c-88c0-a18d2c9ae7f7",
   "metadata": {},
   "source": [
    "a. Carga los datos y crea un DataFrame con cada uno de ellos"
   ]
  },
  {
   "cell_type": "code",
   "execution_count": 1,
   "id": "926230d4-1da2-4594-a031-b7839d16690a",
   "metadata": {},
   "outputs": [
    {
     "name": "stdout",
     "output_type": "stream",
     "text": [
      "df_incidents   case_number        date                  location subject_statuses  \\\n",
      "0      44523A  2013-02-23     3000 Chihuahua Street          Injured   \n",
      "1     121982X  2010-05-03  1300 N. Munger Boulevard          Injured   \n",
      "2     605484T  2007-08-12   200 S. Stemmons Freeway            Other   \n",
      "3     384832T  2007-05-26           7900 S. Loop 12   Shoot and Miss   \n",
      "4     244659R  2006-04-03        6512 South Loop 12          Injured   \n",
      "\n",
      "  subject_weapon                                           subjects  \\\n",
      "0        Handgun                                   Curry, James L/M   \n",
      "1        Handgun                                Chavez, Gabriel L/M   \n",
      "2        Shotgun                                  Salinas, Nick L/M   \n",
      "3        Unarmed  Smith, James B/M; Dews, Antonio B/M; Spearman,...   \n",
      "4          Hands                                 Watkins, Caleb B/M   \n",
      "\n",
      "   subject_count                                   officers  officer_count  \\\n",
      "0              1  Patino, Michael L/M; Fillingim, Brian W/M              2   \n",
      "1              1                       Padilla, Gilbert L/M              1   \n",
      "2              1                          Poston, Jerry W/M              1   \n",
      "3              3                         Mondy, Michael B/M              1   \n",
      "4              1                     Armstrong, Michael W/M              1   \n",
      "\n",
      "  grand_jury_disposition attorney_general_forms_url  \\\n",
      "0                No Bill                       None   \n",
      "1                No Bill                       None   \n",
      "2            See Summary                       None   \n",
      "3                   None                       None   \n",
      "4                No Bill                       None   \n",
      "\n",
      "                                         summary_url  \\\n",
      "0  http://dallaspolice.net/reports/OIS/narrative/...   \n",
      "1  http://dallaspolice.net/reports/OIS/narrative/...   \n",
      "2  http://dallaspolice.net/reports/OIS/narrative/...   \n",
      "3  http://dallaspolice.net/reports/OIS/narrative/...   \n",
      "4  http://dallaspolice.net/reports/OIS/narrative/...   \n",
      "\n",
      "                                        summary_text  latitude  longitude  \n",
      "0  On Saturday, February 23, 2013, at approximate...       NaN        NaN  \n",
      "1  On Monday, May 3, 2010, at approximately 8:06 ...       NaN        NaN  \n",
      "2  On Sunday, August 12, 2007, at approximately 2...       NaN        NaN  \n",
      "3  On Saturday, May 26, 2007, at approximately 1:...       NaN        NaN  \n",
      "4  On Monday, April 3, 2006, at approximately 11:...       NaN        NaN  \n",
      "df_officers   case_number race gender  last_name first_name         full_name\n",
      "0      44523A    L      M     Patino    Michael   Patino, Michael\n",
      "1      44523A    W      M  Fillingim      Brian  Fillingim, Brian\n",
      "2     121982X    L      M    Padilla    Gilbert  Padilla, Gilbert\n",
      "3     605484T    W      M     Poston      Jerry     Poston, Jerry\n",
      "4     384832T    B      M      Mondy    Michael    Mondy, Michael\n",
      "df_subjects   case_number race gender last_name first_name        full_name\n",
      "0      44523A    L      M     Curry      James     Curry, James\n",
      "1     121982X    L      M    Chavez    Gabriel  Chavez, Gabriel\n",
      "2     605484T    L      M   Salinas       Nick    Salinas, Nick\n",
      "3     384832T    B      M     Smith      James     Smith, James\n",
      "4     384832T    B      M      Dews    Antonio    Dews, Antonio\n"
     ]
    }
   ],
   "source": [
    "import pandas as pd\n",
    "\n",
    "#Cargamos los datos utilizando la funcion read_pickle del paquete pandas\n",
    "df_incidents = pd.read_pickle('incidents.pkl')\n",
    "df_officers = pd.read_pickle('officers.pkl')\n",
    "df_subjects = pd.read_pickle('subjects.pkl')\n",
    "\n",
    "#Verificamos las columnas de cada dataframe creado\n",
    "print ('df_incidents',df_incidents.head())\n",
    "print ('df_officers',df_officers.head())\n",
    "print ('df_subjects', df_subjects.head())"
   ]
  },
  {
   "cell_type": "markdown",
   "id": "4e41dc4d-d9a6-4f26-852b-929edb1ffd72",
   "metadata": {},
   "source": [
    "b. Genera una tabla que contenga la unión de las 3 tablas. hint: utiliza sufijos para las columnas que se llaman igual usando el parámetro suffixes de pd.merge()."
   ]
  },
  {
   "cell_type": "code",
   "execution_count": 2,
   "id": "1a478d05-4e62-40d3-b225-90c5a6398014",
   "metadata": {},
   "outputs": [
    {
     "name": "stdout",
     "output_type": "stream",
     "text": [
      "DataFrame Final unido:\n",
      "Index(['case_number', 'date', 'location', 'subject_statuses', 'subject_weapon',\n",
      "       'subjects', 'subject_count', 'officers', 'officer_count',\n",
      "       'grand_jury_disposition', 'attorney_general_forms_url', 'summary_url',\n",
      "       'summary_text', 'latitude', 'longitude', 'race', 'gender', 'last_name',\n",
      "       'first_name', 'full_name', 'race_subject', 'gender_subject',\n",
      "       'last_name_subject', 'first_name_subject', 'full_name_subject'],\n",
      "      dtype='object')\n"
     ]
    }
   ],
   "source": [
    "#Unimos los primeros 2 dataframes (incidents y officers)\n",
    "df_merged = pd.merge(df_incidents, df_officers, on='case_number', suffixes=('_incident', '_officer'))\n",
    "\n",
    "#El dataframe resultante del primer paso lo unimos con el tercer df subjects\n",
    "df_final = pd.merge(df_merged, df_subjects, on='case_number', suffixes=('', '_subject'))\n",
    "\n",
    "#Mostramos el dataframe unido\n",
    "print('DataFrame Final unido:')\n",
    "print(df_final.columns)"
   ]
  },
  {
   "cell_type": "markdown",
   "id": "57a6f6c3-a0b1-4877-b221-be5a95e4ea7c",
   "metadata": {},
   "source": [
    "c. Verica si hay filas duplicadas; si es así, elimínalas."
   ]
  },
  {
   "cell_type": "code",
   "execution_count": 3,
   "id": "77337e26-63a8-430a-ad2d-b60d0cae77be",
   "metadata": {},
   "outputs": [
    {
     "data": {
      "text/html": [
       "<div>\n",
       "<style scoped>\n",
       "    .dataframe tbody tr th:only-of-type {\n",
       "        vertical-align: middle;\n",
       "    }\n",
       "\n",
       "    .dataframe tbody tr th {\n",
       "        vertical-align: top;\n",
       "    }\n",
       "\n",
       "    .dataframe thead th {\n",
       "        text-align: right;\n",
       "    }\n",
       "</style>\n",
       "<table border=\"1\" class=\"dataframe\">\n",
       "  <thead>\n",
       "    <tr style=\"text-align: right;\">\n",
       "      <th></th>\n",
       "      <th>case_number</th>\n",
       "      <th>date</th>\n",
       "      <th>location</th>\n",
       "      <th>subject_statuses</th>\n",
       "      <th>subject_weapon</th>\n",
       "      <th>subjects</th>\n",
       "      <th>subject_count</th>\n",
       "      <th>officers</th>\n",
       "      <th>officer_count</th>\n",
       "      <th>grand_jury_disposition</th>\n",
       "      <th>...</th>\n",
       "      <th>race</th>\n",
       "      <th>gender</th>\n",
       "      <th>last_name</th>\n",
       "      <th>first_name</th>\n",
       "      <th>full_name</th>\n",
       "      <th>race_subject</th>\n",
       "      <th>gender_subject</th>\n",
       "      <th>last_name_subject</th>\n",
       "      <th>first_name_subject</th>\n",
       "      <th>full_name_subject</th>\n",
       "    </tr>\n",
       "  </thead>\n",
       "  <tbody>\n",
       "  </tbody>\n",
       "</table>\n",
       "<p>0 rows × 25 columns</p>\n",
       "</div>"
      ],
      "text/plain": [
       "Empty DataFrame\n",
       "Columns: [case_number, date, location, subject_statuses, subject_weapon, subjects, subject_count, officers, officer_count, grand_jury_disposition, attorney_general_forms_url, summary_url, summary_text, latitude, longitude, race, gender, last_name, first_name, full_name, race_subject, gender_subject, last_name_subject, first_name_subject, full_name_subject]\n",
       "Index: []\n",
       "\n",
       "[0 rows x 25 columns]"
      ]
     },
     "execution_count": 3,
     "metadata": {},
     "output_type": "execute_result"
    }
   ],
   "source": [
    "#Revisamos si hay duplicados\n",
    "df_final[df_final.duplicated()]"
   ]
  },
  {
   "cell_type": "markdown",
   "id": "405edafd-c6ff-4b8b-aa5e-65d0054eb4c6",
   "metadata": {},
   "source": [
    "En este caso no hay filas duplicadas, pero si las hubiera habría que eliminarlas con el siguiente comando:\n",
    "\n",
    "df_final = df_final.drop_duplicates()"
   ]
  },
  {
   "cell_type": "markdown",
   "id": "51add8d4-f86d-4cdf-8068-62b295c21385",
   "metadata": {},
   "source": [
    "d. ¿Cuántos sujetos de género F hay en el DataFrame resultante? hint: usa el método .value_counts() sobre la columna"
   ]
  },
  {
   "cell_type": "code",
   "execution_count": 4,
   "id": "f7acc50b-35b2-455e-9a51-c73af85454f8",
   "metadata": {},
   "outputs": [
    {
     "name": "stdout",
     "output_type": "stream",
     "text": [
      "Número de sujetos de género F: 9\n"
     ]
    }
   ],
   "source": [
    "#Contamos valores en la columna de género del subject\n",
    "gender_counts = df_final.value_counts(subset='gender_subject')\n",
    "num_female_subjects = gender_counts.get('F')\n",
    "print('Número de sujetos de género F:', num_female_subjects)"
   ]
  },
  {
   "cell_type": "markdown",
   "id": "4808fdab-ac7f-448c-9f1e-67df2f207365",
   "metadata": {},
   "source": [
    "e. ¿En cuántos números de caso hay por lo menos una sospechosa que sea mujer? hint: utiliza el método unique() para obtener los valores únicos de una columna específica de un DataFrame luego de filtrar."
   ]
  },
  {
   "cell_type": "code",
   "execution_count": 5,
   "id": "3b4414f3-9aa3-43f6-a53d-d60aecbd5d1f",
   "metadata": {},
   "outputs": [
    {
     "name": "stdout",
     "output_type": "stream",
     "text": [
      "Número de casos con al menos una sospechosa mujer: 7\n"
     ]
    }
   ],
   "source": [
    "#Filtramos los casos con sospechosas mujeres\n",
    "cases_with_female = df_final[df_final['gender_subject'] == 'F']['case_number'].nunique()\n",
    "print('Número de casos con al menos una sospechosa mujer:', cases_with_female)"
   ]
  },
  {
   "cell_type": "markdown",
   "id": "16be25b2-30e8-4f9b-a28b-5f363d655ab1",
   "metadata": {},
   "source": [
    "En este caso, obtenemos una cantidad menor que en la pregunta 1.d, ya que es probable que un mismo caso tenga más de una sospechosa mujer. Sin embargo, en esta pregunta solo nos interesa contar el número de casos únicos y no el total de sospechosas."
   ]
  },
  {
   "cell_type": "markdown",
   "id": "64fcfdf5-81bf-4cf3-bc3c-ac833ea24d06",
   "metadata": {},
   "source": [
    "f. Genera una tabla pivote que muestre en las filas el género del oficial y en las columnas el género del subject. ¿Cómo interpretas los valores que muestra esta vista?"
   ]
  },
  {
   "cell_type": "code",
   "execution_count": 6,
   "id": "18f76d1f-d961-4f03-98b3-a68b9a8d1f46",
   "metadata": {},
   "outputs": [
    {
     "name": "stdout",
     "output_type": "stream",
     "text": [
      "Tabla Pivote:\n",
      "gender_subject  F    M\n",
      "gender                \n",
      "F               2   18\n",
      "M               7  350\n"
     ]
    }
   ],
   "source": [
    "#Creamos la tabla pivote con la funcion pivot_table()\n",
    "# Crear tabla pivote\n",
    "pivot_table = pd.pivot_table(\n",
    "    df_final, \n",
    "    index='gender', \n",
    "    columns='gender_subject', \n",
    "    aggfunc='size')#Con esta función contamos la cantidad total de filas que cumplen las combinaciones especificadas\n",
    "\n",
    "\n",
    "print('Tabla Pivote:')\n",
    "print(pivot_table)\n",
    "#Ejemplo de la función size:\n",
    "#Si un oficial tiene género M y el sujeto tiene género F, cuenta cuántas veces aparece esta combinación en el dataframe."
   ]
  },
  {
   "cell_type": "markdown",
   "id": "88544c11-7a6e-4e4b-8bfb-056556667d66",
   "metadata": {},
   "source": [
    "Este resultado nos muestra un resumen de las combinaciones entre el género del oficial y el género del sospechoso:\n",
    "\n",
    "- Hay 2 casos en donde el oficial es mujer y el sospechoso tambien es mujer.\n",
    "\n",
    "- Hay 18 casos en donde el oficial es mujer y el sospechoso es hombre.\n",
    "\n",
    "- Hay 7 casos en donde el oficial es hombre y el sospechoso es mujer.\n",
    "\n",
    "- Hay 350 casos en donde el oficial es hombre y el sospechoso también es hombre."
   ]
  },
  {
   "cell_type": "markdown",
   "id": "41815093-ba2e-453c-84c4-23e913b6d231",
   "metadata": {},
   "source": [
    "### 2. Para continuar con el desarrollo de este desafío, necesitarás el archivos Cleaned_DS_Jobs.csv"
   ]
  },
  {
   "cell_type": "markdown",
   "id": "5252035f-379f-4328-9a3a-79f6bb86cf81",
   "metadata": {},
   "source": [
    "a. Carga los datos y crea un DataFrame con ellos."
   ]
  },
  {
   "cell_type": "code",
   "execution_count": 7,
   "id": "1dd691c2-3767-4fca-8d72-c1d3936733c0",
   "metadata": {},
   "outputs": [
    {
     "data": {
      "text/html": [
       "<div>\n",
       "<style scoped>\n",
       "    .dataframe tbody tr th:only-of-type {\n",
       "        vertical-align: middle;\n",
       "    }\n",
       "\n",
       "    .dataframe tbody tr th {\n",
       "        vertical-align: top;\n",
       "    }\n",
       "\n",
       "    .dataframe thead th {\n",
       "        text-align: right;\n",
       "    }\n",
       "</style>\n",
       "<table border=\"1\" class=\"dataframe\">\n",
       "  <thead>\n",
       "    <tr style=\"text-align: right;\">\n",
       "      <th></th>\n",
       "      <th>Job Title</th>\n",
       "      <th>Salary Estimate</th>\n",
       "      <th>Job Description</th>\n",
       "      <th>Rating</th>\n",
       "      <th>Company Name</th>\n",
       "      <th>Location</th>\n",
       "      <th>Headquarters</th>\n",
       "      <th>Size</th>\n",
       "      <th>Type of ownership</th>\n",
       "      <th>Industry</th>\n",
       "      <th>...</th>\n",
       "      <th>company_age</th>\n",
       "      <th>python</th>\n",
       "      <th>excel</th>\n",
       "      <th>hadoop</th>\n",
       "      <th>spark</th>\n",
       "      <th>aws</th>\n",
       "      <th>tableau</th>\n",
       "      <th>big_data</th>\n",
       "      <th>job_simp</th>\n",
       "      <th>seniority</th>\n",
       "    </tr>\n",
       "  </thead>\n",
       "  <tbody>\n",
       "    <tr>\n",
       "      <th>0</th>\n",
       "      <td>Sr Data Scientist</td>\n",
       "      <td>137-171</td>\n",
       "      <td>Description\\n\\nThe Senior Data Scientist is re...</td>\n",
       "      <td>3.1</td>\n",
       "      <td>Healthfirst</td>\n",
       "      <td>New York, NY</td>\n",
       "      <td>New York, NY</td>\n",
       "      <td>1001 to 5000 employees</td>\n",
       "      <td>Nonprofit Organization</td>\n",
       "      <td>Insurance Carriers</td>\n",
       "      <td>...</td>\n",
       "      <td>27</td>\n",
       "      <td>0</td>\n",
       "      <td>0</td>\n",
       "      <td>0</td>\n",
       "      <td>0</td>\n",
       "      <td>1</td>\n",
       "      <td>0</td>\n",
       "      <td>0</td>\n",
       "      <td>data scientist</td>\n",
       "      <td>senior</td>\n",
       "    </tr>\n",
       "    <tr>\n",
       "      <th>1</th>\n",
       "      <td>Data Scientist</td>\n",
       "      <td>137-171</td>\n",
       "      <td>Secure our Nation, Ignite your Future\\n\\nJoin ...</td>\n",
       "      <td>4.2</td>\n",
       "      <td>ManTech</td>\n",
       "      <td>Chantilly, VA</td>\n",
       "      <td>Herndon, VA</td>\n",
       "      <td>5001 to 10000 employees</td>\n",
       "      <td>Company - Public</td>\n",
       "      <td>Research &amp; Development</td>\n",
       "      <td>...</td>\n",
       "      <td>52</td>\n",
       "      <td>0</td>\n",
       "      <td>0</td>\n",
       "      <td>1</td>\n",
       "      <td>0</td>\n",
       "      <td>0</td>\n",
       "      <td>0</td>\n",
       "      <td>1</td>\n",
       "      <td>data scientist</td>\n",
       "      <td>na</td>\n",
       "    </tr>\n",
       "    <tr>\n",
       "      <th>2</th>\n",
       "      <td>Data Scientist</td>\n",
       "      <td>137-171</td>\n",
       "      <td>Overview\\n\\n\\nAnalysis Group is one of the lar...</td>\n",
       "      <td>3.8</td>\n",
       "      <td>Analysis Group</td>\n",
       "      <td>Boston, MA</td>\n",
       "      <td>Boston, MA</td>\n",
       "      <td>1001 to 5000 employees</td>\n",
       "      <td>Private Practice / Firm</td>\n",
       "      <td>Consulting</td>\n",
       "      <td>...</td>\n",
       "      <td>39</td>\n",
       "      <td>1</td>\n",
       "      <td>1</td>\n",
       "      <td>0</td>\n",
       "      <td>0</td>\n",
       "      <td>1</td>\n",
       "      <td>0</td>\n",
       "      <td>0</td>\n",
       "      <td>data scientist</td>\n",
       "      <td>na</td>\n",
       "    </tr>\n",
       "    <tr>\n",
       "      <th>3</th>\n",
       "      <td>Data Scientist</td>\n",
       "      <td>137-171</td>\n",
       "      <td>JOB DESCRIPTION:\\n\\nDo you have a passion for ...</td>\n",
       "      <td>3.5</td>\n",
       "      <td>INFICON</td>\n",
       "      <td>Newton, MA</td>\n",
       "      <td>Bad Ragaz, Switzerland</td>\n",
       "      <td>501 to 1000 employees</td>\n",
       "      <td>Company - Public</td>\n",
       "      <td>Electrical &amp; Electronic Manufacturing</td>\n",
       "      <td>...</td>\n",
       "      <td>20</td>\n",
       "      <td>1</td>\n",
       "      <td>1</td>\n",
       "      <td>0</td>\n",
       "      <td>0</td>\n",
       "      <td>1</td>\n",
       "      <td>0</td>\n",
       "      <td>0</td>\n",
       "      <td>data scientist</td>\n",
       "      <td>na</td>\n",
       "    </tr>\n",
       "    <tr>\n",
       "      <th>4</th>\n",
       "      <td>Data Scientist</td>\n",
       "      <td>137-171</td>\n",
       "      <td>Data Scientist\\nAffinity Solutions / Marketing...</td>\n",
       "      <td>2.9</td>\n",
       "      <td>Affinity Solutions</td>\n",
       "      <td>New York, NY</td>\n",
       "      <td>New York, NY</td>\n",
       "      <td>51 to 200 employees</td>\n",
       "      <td>Company - Private</td>\n",
       "      <td>Advertising &amp; Marketing</td>\n",
       "      <td>...</td>\n",
       "      <td>22</td>\n",
       "      <td>1</td>\n",
       "      <td>1</td>\n",
       "      <td>0</td>\n",
       "      <td>0</td>\n",
       "      <td>0</td>\n",
       "      <td>0</td>\n",
       "      <td>0</td>\n",
       "      <td>data scientist</td>\n",
       "      <td>na</td>\n",
       "    </tr>\n",
       "  </tbody>\n",
       "</table>\n",
       "<p>5 rows × 27 columns</p>\n",
       "</div>"
      ],
      "text/plain": [
       "           Job Title Salary Estimate  \\\n",
       "0  Sr Data Scientist        137-171    \n",
       "1     Data Scientist        137-171    \n",
       "2     Data Scientist        137-171    \n",
       "3     Data Scientist        137-171    \n",
       "4     Data Scientist        137-171    \n",
       "\n",
       "                                     Job Description  Rating  \\\n",
       "0  Description\\n\\nThe Senior Data Scientist is re...     3.1   \n",
       "1  Secure our Nation, Ignite your Future\\n\\nJoin ...     4.2   \n",
       "2  Overview\\n\\n\\nAnalysis Group is one of the lar...     3.8   \n",
       "3  JOB DESCRIPTION:\\n\\nDo you have a passion for ...     3.5   \n",
       "4  Data Scientist\\nAffinity Solutions / Marketing...     2.9   \n",
       "\n",
       "         Company Name       Location            Headquarters  \\\n",
       "0         Healthfirst   New York, NY            New York, NY   \n",
       "1             ManTech  Chantilly, VA             Herndon, VA   \n",
       "2      Analysis Group     Boston, MA              Boston, MA   \n",
       "3             INFICON     Newton, MA  Bad Ragaz, Switzerland   \n",
       "4  Affinity Solutions   New York, NY            New York, NY   \n",
       "\n",
       "                      Size        Type of ownership  \\\n",
       "0   1001 to 5000 employees   Nonprofit Organization   \n",
       "1  5001 to 10000 employees         Company - Public   \n",
       "2   1001 to 5000 employees  Private Practice / Firm   \n",
       "3    501 to 1000 employees         Company - Public   \n",
       "4      51 to 200 employees        Company - Private   \n",
       "\n",
       "                                Industry  ... company_age python  excel  \\\n",
       "0                     Insurance Carriers  ...          27      0      0   \n",
       "1                 Research & Development  ...          52      0      0   \n",
       "2                             Consulting  ...          39      1      1   \n",
       "3  Electrical & Electronic Manufacturing  ...          20      1      1   \n",
       "4                Advertising & Marketing  ...          22      1      1   \n",
       "\n",
       "   hadoop  spark aws  tableau  big_data        job_simp  seniority  \n",
       "0       0      0   1        0         0  data scientist     senior  \n",
       "1       1      0   0        0         1  data scientist         na  \n",
       "2       0      0   1        0         0  data scientist         na  \n",
       "3       0      0   1        0         0  data scientist         na  \n",
       "4       0      0   0        0         0  data scientist         na  \n",
       "\n",
       "[5 rows x 27 columns]"
      ]
     },
     "execution_count": 7,
     "metadata": {},
     "output_type": "execute_result"
    }
   ],
   "source": [
    "import numpy as np\n",
    "\n",
    "#Cargamos el archivo\n",
    "df_jobs = pd.read_csv('Cleaned_DS_Jobs.csv')\n",
    "df_jobs.head()"
   ]
  },
  {
   "cell_type": "markdown",
   "id": "a869465c-1141-455c-a87e-559c0192bd93",
   "metadata": {},
   "source": [
    "b. Utiliza la siguiente lista de valores que serán considerados como nulos: [\"na\", \"NA\", -1, \"0\", \"-1\", \"null\", \"n/a\", \"N/A\", \"NULL\"] (hint: utiliza el método replace para reemplazar los valores indicados por np.nan)"
   ]
  },
  {
   "cell_type": "code",
   "execution_count": 8,
   "id": "6dd15ea4-7e92-47c1-aef5-94f8a7213c66",
   "metadata": {},
   "outputs": [
    {
     "data": {
      "text/html": [
       "<div>\n",
       "<style scoped>\n",
       "    .dataframe tbody tr th:only-of-type {\n",
       "        vertical-align: middle;\n",
       "    }\n",
       "\n",
       "    .dataframe tbody tr th {\n",
       "        vertical-align: top;\n",
       "    }\n",
       "\n",
       "    .dataframe thead th {\n",
       "        text-align: right;\n",
       "    }\n",
       "</style>\n",
       "<table border=\"1\" class=\"dataframe\">\n",
       "  <thead>\n",
       "    <tr style=\"text-align: right;\">\n",
       "      <th></th>\n",
       "      <th>Job Title</th>\n",
       "      <th>Salary Estimate</th>\n",
       "      <th>Job Description</th>\n",
       "      <th>Rating</th>\n",
       "      <th>Company Name</th>\n",
       "      <th>Location</th>\n",
       "      <th>Headquarters</th>\n",
       "      <th>Size</th>\n",
       "      <th>Type of ownership</th>\n",
       "      <th>Industry</th>\n",
       "      <th>...</th>\n",
       "      <th>company_age</th>\n",
       "      <th>python</th>\n",
       "      <th>excel</th>\n",
       "      <th>hadoop</th>\n",
       "      <th>spark</th>\n",
       "      <th>aws</th>\n",
       "      <th>tableau</th>\n",
       "      <th>big_data</th>\n",
       "      <th>job_simp</th>\n",
       "      <th>seniority</th>\n",
       "    </tr>\n",
       "  </thead>\n",
       "  <tbody>\n",
       "    <tr>\n",
       "      <th>0</th>\n",
       "      <td>Sr Data Scientist</td>\n",
       "      <td>137-171</td>\n",
       "      <td>Description\\n\\nThe Senior Data Scientist is re...</td>\n",
       "      <td>3.1</td>\n",
       "      <td>Healthfirst</td>\n",
       "      <td>New York, NY</td>\n",
       "      <td>New York, NY</td>\n",
       "      <td>1001 to 5000 employees</td>\n",
       "      <td>Nonprofit Organization</td>\n",
       "      <td>Insurance Carriers</td>\n",
       "      <td>...</td>\n",
       "      <td>27.0</td>\n",
       "      <td>0</td>\n",
       "      <td>0</td>\n",
       "      <td>0</td>\n",
       "      <td>0</td>\n",
       "      <td>1</td>\n",
       "      <td>0</td>\n",
       "      <td>0</td>\n",
       "      <td>data scientist</td>\n",
       "      <td>senior</td>\n",
       "    </tr>\n",
       "    <tr>\n",
       "      <th>1</th>\n",
       "      <td>Data Scientist</td>\n",
       "      <td>137-171</td>\n",
       "      <td>Secure our Nation, Ignite your Future\\n\\nJoin ...</td>\n",
       "      <td>4.2</td>\n",
       "      <td>ManTech</td>\n",
       "      <td>Chantilly, VA</td>\n",
       "      <td>Herndon, VA</td>\n",
       "      <td>5001 to 10000 employees</td>\n",
       "      <td>Company - Public</td>\n",
       "      <td>Research &amp; Development</td>\n",
       "      <td>...</td>\n",
       "      <td>52.0</td>\n",
       "      <td>0</td>\n",
       "      <td>0</td>\n",
       "      <td>1</td>\n",
       "      <td>0</td>\n",
       "      <td>0</td>\n",
       "      <td>0</td>\n",
       "      <td>1</td>\n",
       "      <td>data scientist</td>\n",
       "      <td>NaN</td>\n",
       "    </tr>\n",
       "    <tr>\n",
       "      <th>2</th>\n",
       "      <td>Data Scientist</td>\n",
       "      <td>137-171</td>\n",
       "      <td>Overview\\n\\n\\nAnalysis Group is one of the lar...</td>\n",
       "      <td>3.8</td>\n",
       "      <td>Analysis Group</td>\n",
       "      <td>Boston, MA</td>\n",
       "      <td>Boston, MA</td>\n",
       "      <td>1001 to 5000 employees</td>\n",
       "      <td>Private Practice / Firm</td>\n",
       "      <td>Consulting</td>\n",
       "      <td>...</td>\n",
       "      <td>39.0</td>\n",
       "      <td>1</td>\n",
       "      <td>1</td>\n",
       "      <td>0</td>\n",
       "      <td>0</td>\n",
       "      <td>1</td>\n",
       "      <td>0</td>\n",
       "      <td>0</td>\n",
       "      <td>data scientist</td>\n",
       "      <td>NaN</td>\n",
       "    </tr>\n",
       "    <tr>\n",
       "      <th>3</th>\n",
       "      <td>Data Scientist</td>\n",
       "      <td>137-171</td>\n",
       "      <td>JOB DESCRIPTION:\\n\\nDo you have a passion for ...</td>\n",
       "      <td>3.5</td>\n",
       "      <td>INFICON</td>\n",
       "      <td>Newton, MA</td>\n",
       "      <td>Bad Ragaz, Switzerland</td>\n",
       "      <td>501 to 1000 employees</td>\n",
       "      <td>Company - Public</td>\n",
       "      <td>Electrical &amp; Electronic Manufacturing</td>\n",
       "      <td>...</td>\n",
       "      <td>20.0</td>\n",
       "      <td>1</td>\n",
       "      <td>1</td>\n",
       "      <td>0</td>\n",
       "      <td>0</td>\n",
       "      <td>1</td>\n",
       "      <td>0</td>\n",
       "      <td>0</td>\n",
       "      <td>data scientist</td>\n",
       "      <td>NaN</td>\n",
       "    </tr>\n",
       "    <tr>\n",
       "      <th>4</th>\n",
       "      <td>Data Scientist</td>\n",
       "      <td>137-171</td>\n",
       "      <td>Data Scientist\\nAffinity Solutions / Marketing...</td>\n",
       "      <td>2.9</td>\n",
       "      <td>Affinity Solutions</td>\n",
       "      <td>New York, NY</td>\n",
       "      <td>New York, NY</td>\n",
       "      <td>51 to 200 employees</td>\n",
       "      <td>Company - Private</td>\n",
       "      <td>Advertising &amp; Marketing</td>\n",
       "      <td>...</td>\n",
       "      <td>22.0</td>\n",
       "      <td>1</td>\n",
       "      <td>1</td>\n",
       "      <td>0</td>\n",
       "      <td>0</td>\n",
       "      <td>0</td>\n",
       "      <td>0</td>\n",
       "      <td>0</td>\n",
       "      <td>data scientist</td>\n",
       "      <td>NaN</td>\n",
       "    </tr>\n",
       "  </tbody>\n",
       "</table>\n",
       "<p>5 rows × 27 columns</p>\n",
       "</div>"
      ],
      "text/plain": [
       "           Job Title Salary Estimate  \\\n",
       "0  Sr Data Scientist        137-171    \n",
       "1     Data Scientist        137-171    \n",
       "2     Data Scientist        137-171    \n",
       "3     Data Scientist        137-171    \n",
       "4     Data Scientist        137-171    \n",
       "\n",
       "                                     Job Description  Rating  \\\n",
       "0  Description\\n\\nThe Senior Data Scientist is re...     3.1   \n",
       "1  Secure our Nation, Ignite your Future\\n\\nJoin ...     4.2   \n",
       "2  Overview\\n\\n\\nAnalysis Group is one of the lar...     3.8   \n",
       "3  JOB DESCRIPTION:\\n\\nDo you have a passion for ...     3.5   \n",
       "4  Data Scientist\\nAffinity Solutions / Marketing...     2.9   \n",
       "\n",
       "         Company Name       Location            Headquarters  \\\n",
       "0         Healthfirst   New York, NY            New York, NY   \n",
       "1             ManTech  Chantilly, VA             Herndon, VA   \n",
       "2      Analysis Group     Boston, MA              Boston, MA   \n",
       "3             INFICON     Newton, MA  Bad Ragaz, Switzerland   \n",
       "4  Affinity Solutions   New York, NY            New York, NY   \n",
       "\n",
       "                      Size        Type of ownership  \\\n",
       "0   1001 to 5000 employees   Nonprofit Organization   \n",
       "1  5001 to 10000 employees         Company - Public   \n",
       "2   1001 to 5000 employees  Private Practice / Firm   \n",
       "3    501 to 1000 employees         Company - Public   \n",
       "4      51 to 200 employees        Company - Private   \n",
       "\n",
       "                                Industry  ... company_age python  excel  \\\n",
       "0                     Insurance Carriers  ...        27.0      0      0   \n",
       "1                 Research & Development  ...        52.0      0      0   \n",
       "2                             Consulting  ...        39.0      1      1   \n",
       "3  Electrical & Electronic Manufacturing  ...        20.0      1      1   \n",
       "4                Advertising & Marketing  ...        22.0      1      1   \n",
       "\n",
       "   hadoop  spark aws  tableau  big_data        job_simp  seniority  \n",
       "0       0      0   1        0         0  data scientist     senior  \n",
       "1       1      0   0        0         1  data scientist        NaN  \n",
       "2       0      0   1        0         0  data scientist        NaN  \n",
       "3       0      0   1        0         0  data scientist        NaN  \n",
       "4       0      0   0        0         0  data scientist        NaN  \n",
       "\n",
       "[5 rows x 27 columns]"
      ]
     },
     "execution_count": 8,
     "metadata": {},
     "output_type": "execute_result"
    }
   ],
   "source": [
    "null_values = [\"na\", \"NA\", -1, \"0\", \"-1\", \"null\", \"n/a\", \"N/A\", \"NULL\"]\n",
    "#Reemplazamos los valores nulos\n",
    "df_jobs.replace(null_values, np.nan, inplace=True)\n",
    "\n",
    "#Verificamos si se reemplazaron correctamente\n",
    "df_jobs.head()\n",
    "#En la última columna que se muestra, 'seniority', podemos notar que cambió de \"na\" a \"NaN\""
   ]
  },
  {
   "cell_type": "markdown",
   "id": "0e6450d9-5206-42c5-b9c8-4c00620e9626",
   "metadata": {},
   "source": [
    "c. Elimina todas las filas con datos faltantes. (hint: utiliza el método .dropna())"
   ]
  },
  {
   "cell_type": "code",
   "execution_count": 9,
   "id": "ce591e57-8a74-426a-ab11-a7f5661db772",
   "metadata": {},
   "outputs": [
    {
     "name": "stdout",
     "output_type": "stream",
     "text": [
      "Tamaño antes de limpiar: (660, 27)\n"
     ]
    }
   ],
   "source": [
    "#Verificamos datos antes de limpiar\n",
    "print('Tamaño antes de limpiar:', df_jobs.shape)"
   ]
  },
  {
   "cell_type": "code",
   "execution_count": 10,
   "id": "c5b6ed37-c021-4ba4-b05a-8e2493c4b149",
   "metadata": {},
   "outputs": [
    {
     "name": "stdout",
     "output_type": "stream",
     "text": [
      "Tamaño después de limpiar: (80, 27)\n"
     ]
    }
   ],
   "source": [
    "#Eliminamos filas con datos faltantes\n",
    "df_jobs_cleaned = df_jobs.dropna() #si fuera por columna hay que agregar axis = 1 (default es 0)\n",
    "\n",
    "#Verificamos datos después de limpiar\n",
    "print('Tamaño después de limpiar:', df_jobs_cleaned.shape)"
   ]
  },
  {
   "cell_type": "markdown",
   "id": "b22af37e-03da-430e-b822-cdac6cba69e3",
   "metadata": {},
   "source": [
    "d. A partir de la columna “Salary Estimate”, genera dos columnas: Salario Estimado Mínimo y Máximo. (hint: Utiliza el método apply sobre la columna.)"
   ]
  },
  {
   "cell_type": "code",
   "execution_count": 11,
   "id": "ed87dc57-688c-4051-8fb3-90568d428cc5",
   "metadata": {},
   "outputs": [
    {
     "name": "stdout",
     "output_type": "stream",
     "text": [
      "0     137-171 \n",
      "32     75-131 \n",
      "38     75-131 \n",
      "45     75-131 \n",
      "54     75-131 \n",
      "Name: Salary Estimate, dtype: object\n",
      "0     137.0\n",
      "32     75.0\n",
      "38     75.0\n",
      "45     75.0\n",
      "54     75.0\n",
      "Name: salario_min, dtype: float64\n",
      "0     171.0\n",
      "32    131.0\n",
      "38    131.0\n",
      "45    131.0\n",
      "54    131.0\n",
      "Name: salario_max, dtype: float64\n"
     ]
    },
    {
     "name": "stderr",
     "output_type": "stream",
     "text": [
      "/tmp/ipykernel_11406/3232229410.py:2: SettingWithCopyWarning: \n",
      "A value is trying to be set on a copy of a slice from a DataFrame.\n",
      "Try using .loc[row_indexer,col_indexer] = value instead\n",
      "\n",
      "See the caveats in the documentation: https://pandas.pydata.org/pandas-docs/stable/user_guide/indexing.html#returning-a-view-versus-a-copy\n",
      "  df_jobs_cleaned['salario_min'] = df_jobs_cleaned['Salary Estimate'].apply(\n",
      "/tmp/ipykernel_11406/3232229410.py:5: SettingWithCopyWarning: \n",
      "A value is trying to be set on a copy of a slice from a DataFrame.\n",
      "Try using .loc[row_indexer,col_indexer] = value instead\n",
      "\n",
      "See the caveats in the documentation: https://pandas.pydata.org/pandas-docs/stable/user_guide/indexing.html#returning-a-view-versus-a-copy\n",
      "  df_jobs_cleaned['salario_max'] = df_jobs_cleaned['Salary Estimate'].apply(\n"
     ]
    }
   ],
   "source": [
    "#Vamos a crear las columnas de salarion min y max con las funciones lambda:\n",
    "df_jobs_cleaned['salario_min'] = df_jobs_cleaned['Salary Estimate'].apply(\n",
    "    lambda x: float(x.split('-')[0].strip()) if '-' in x else np.nan)\n",
    "#Como en la columna de Salary Estimate viene un rango, tenemos que separar los números (split) para extraer el min y max\n",
    "df_jobs_cleaned['salario_max'] = df_jobs_cleaned['Salary Estimate'].apply(\n",
    "    lambda x: float(x.split('-')[1].strip()) if '-' in x else np.nan)\n",
    "\n",
    "# Verificar las nuevas columnas\n",
    "print (df_jobs_cleaned['Salary Estimate'].head())\n",
    "print (df_jobs_cleaned['salario_min'].head())\n",
    "print (df_jobs_cleaned['salario_max'].head())"
   ]
  },
  {
   "cell_type": "markdown",
   "id": "adf0b5b5-2e0c-447a-a5ee-236690bc106c",
   "metadata": {},
   "source": [
    "e. Realiza la recodificación de la columna Size con los valores de la siguiente tabla: (hint: utilice reemplazo con diccionario usando el método replace sobre la columna.)\n",
    "\n",
    "<img src='tabla.png'>"
   ]
  },
  {
   "cell_type": "code",
   "execution_count": 12,
   "id": "f655a909-469d-48ea-a525-fa9ddcaae333",
   "metadata": {},
   "outputs": [
    {
     "data": {
      "text/plain": [
       "0     1001 to 5000 employees\n",
       "32    1001 to 5000 employees\n",
       "38     501 to 1000 employees\n",
       "45      201 to 500 employees\n",
       "54      201 to 500 employees\n",
       "Name: Size, dtype: object"
      ]
     },
     "execution_count": 12,
     "metadata": {},
     "output_type": "execute_result"
    }
   ],
   "source": [
    "df_jobs_cleaned['Size'].head()"
   ]
  },
  {
   "cell_type": "code",
   "execution_count": 13,
   "id": "b0f23314-0856-4a42-8ced-c78716df1d59",
   "metadata": {},
   "outputs": [
    {
     "name": "stderr",
     "output_type": "stream",
     "text": [
      "/tmp/ipykernel_11406/3966954729.py:11: SettingWithCopyWarning: \n",
      "A value is trying to be set on a copy of a slice from a DataFrame.\n",
      "Try using .loc[row_indexer,col_indexer] = value instead\n",
      "\n",
      "See the caveats in the documentation: https://pandas.pydata.org/pandas-docs/stable/user_guide/indexing.html#returning-a-view-versus-a-copy\n",
      "  df_jobs_cleaned['Size'] = df_jobs_cleaned['Size'].replace(size_mapping)\n"
     ]
    },
    {
     "data": {
      "text/plain": [
       "0     Medianas Empresas\n",
       "32    Medianas Empresas\n",
       "38        Microempresas\n",
       "45    Pequeñas Empresas\n",
       "54    Pequeñas Empresas\n",
       "Name: Size, dtype: object"
      ]
     },
     "execution_count": 13,
     "metadata": {},
     "output_type": "execute_result"
    }
   ],
   "source": [
    "#Creamos el diccionario para recodificar la columna \"Size\"\n",
    "size_mapping = {\"10000+ employees\": \"Mega Empresas\",\n",
    "    \"5001 to 10000 employees\": \"Grandes Empresas\",\n",
    "    \"1001 to 5000 employees\": \"Medianas Empresas\",\n",
    "    \"201 to 500 employees\": \"Pequeñas Empresas\",\n",
    "    \"51 to 200 employees\": \"Pequeñas Grandes Empresas\",\n",
    "    \"501 to 1000 employees\": \"Microempresas\",\n",
    "    \"Unknown\": \"Empresas sin Información\"}\n",
    "\n",
    "#Cambiamos los valores\n",
    "df_jobs_cleaned['Size'] = df_jobs_cleaned['Size'].replace(size_mapping)\n",
    "\n",
    "#Verificamos los cambios\n",
    "df_jobs_cleaned['Size'].head()"
   ]
  },
  {
   "cell_type": "markdown",
   "id": "f09636e1-fc00-4922-a31e-2d20fb8edf63",
   "metadata": {},
   "source": [
    "f. Finalmente, genera una tabla pivote que muestre la media del salario estimado mínimo y la media del salario estimado máximo por tamaño de empresa. (hint: utiliza pd.pivot_table para generar la vista adecuada con las columnas generadas.)"
   ]
  },
  {
   "cell_type": "code",
   "execution_count": 14,
   "id": "4d339de2-55d7-4a08-9d8b-7ae880502ba9",
   "metadata": {},
   "outputs": [
    {
     "name": "stdout",
     "output_type": "stream",
     "text": [
      "                           salario_max  salario_min\n",
      "Size                                               \n",
      "Empresas sin Información    110.500000    73.000000\n",
      "Grandes Empresas            138.875000    92.125000\n",
      "Medianas Empresas           137.461538    93.923077\n",
      "Mega Empresas               151.111111    97.888889\n",
      "Microempresas               146.235294   100.176471\n",
      "Pequeñas Empresas           141.142857    93.571429\n",
      "Pequeñas Grandes Empresas   137.666667   100.666667\n"
     ]
    }
   ],
   "source": [
    "#Creamos la tabla pivote\n",
    "pivot_jobs = pd.pivot_table(\n",
    "    df_jobs_cleaned, \n",
    "    index='Size', \n",
    "    values=['salario_min','salario_max'], \n",
    "    aggfunc='mean')#aplicamos la funcion mean para calcular la media o promedio\n",
    "\n",
    "print(pivot_jobs)"
   ]
  },
  {
   "cell_type": "markdown",
   "id": "6e49718b-73e8-4850-b5a6-436ab191cec8",
   "metadata": {},
   "source": [
    "P.D: Los Warning que me aparecen en las ultimas preguntas son porque estoy modificando un df que es una \"vista\" de otro df (resultado del dropna()). Pero como solo es un warning lo ignoré jeje."
   ]
  },
  {
   "cell_type": "code",
   "execution_count": null,
   "id": "18e6b72e-0f3c-4dfc-ab6c-9dfd4eac2620",
   "metadata": {},
   "outputs": [],
   "source": []
  }
 ],
 "metadata": {
  "kernelspec": {
   "display_name": "Python 3 (ipykernel)",
   "language": "python",
   "name": "python3"
  },
  "language_info": {
   "codemirror_mode": {
    "name": "ipython",
    "version": 3
   },
   "file_extension": ".py",
   "mimetype": "text/x-python",
   "name": "python",
   "nbconvert_exporter": "python",
   "pygments_lexer": "ipython3",
   "version": "3.10.12"
  }
 },
 "nbformat": 4,
 "nbformat_minor": 5
}
