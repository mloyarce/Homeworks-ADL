{
 "cells": [
  {
   "cell_type": "markdown",
   "id": "c65c80fc-d0b8-4a3b-94c1-b111f883a7d9",
   "metadata": {},
   "source": [
    "## Desafío - Inferencia e hipótesis - Maria Laura Oyarce"
   ]
  },
  {
   "cell_type": "markdown",
   "id": "c1840669-64ce-492d-8489-da59e6645606",
   "metadata": {},
   "source": [
    "#### En este desafío validaremos nuestros conocimientos de estadística inferencial. Para lograrlo, realizarás inferencias y pruebas de hipótesis a partir de la base de datos earnings.csv. "
   ]
  },
  {
   "cell_type": "markdown",
   "id": "40036c1c-5c52-498a-8ba7-72fd843bb02a",
   "metadata": {},
   "source": [
    "1. Considerando las variables earn, height y age, vamos a suponer que nuestro dataset\n",
    "fuera una población completa. (Prepara los datos adecuadamente). "
   ]
  },
  {
   "cell_type": "code",
   "execution_count": 1,
   "id": "f2e87556-b2ce-4260-9e31-8f79d379cd09",
   "metadata": {},
   "outputs": [],
   "source": [
    "import numpy as np\n",
    "import scipy.stats as stats\n",
    "import pandas as pd\n",
    "import matplotlib.pyplot as plt\n",
    "import seaborn as sns"
   ]
  },
  {
   "cell_type": "code",
   "execution_count": 2,
   "id": "bf90f5f8-8a8b-4141-b4d8-cbaed373bf3c",
   "metadata": {},
   "outputs": [
    {
     "name": "stdout",
     "output_type": "stream",
     "text": [
      "<class 'pandas.core.frame.DataFrame'>\n",
      "RangeIndex: 1816 entries, 0 to 1815\n",
      "Data columns (total 15 columns):\n",
      " #   Column            Non-Null Count  Dtype  \n",
      "---  ------            --------------  -----  \n",
      " 0   height            1816 non-null   int64  \n",
      " 1   weight            1789 non-null   float64\n",
      " 2   male              1816 non-null   int64  \n",
      " 3   earn              1816 non-null   float64\n",
      " 4   earnk             1816 non-null   float64\n",
      " 5   ethnicity         1816 non-null   object \n",
      " 6   education         1814 non-null   float64\n",
      " 7   mother_education  1572 non-null   float64\n",
      " 8   father_education  1521 non-null   float64\n",
      " 9   walk              1816 non-null   int64  \n",
      " 10  exercise          1816 non-null   int64  \n",
      " 11  smokenow          1815 non-null   float64\n",
      " 12  tense             1815 non-null   float64\n",
      " 13  angry             1815 non-null   float64\n",
      " 14  age               1816 non-null   int64  \n",
      "dtypes: float64(9), int64(5), object(1)\n",
      "memory usage: 212.9+ KB\n"
     ]
    },
    {
     "data": {
      "text/plain": [
       "None"
      ]
     },
     "metadata": {},
     "output_type": "display_data"
    },
    {
     "data": {
      "text/html": [
       "<div>\n",
       "<style scoped>\n",
       "    .dataframe tbody tr th:only-of-type {\n",
       "        vertical-align: middle;\n",
       "    }\n",
       "\n",
       "    .dataframe tbody tr th {\n",
       "        vertical-align: top;\n",
       "    }\n",
       "\n",
       "    .dataframe thead th {\n",
       "        text-align: right;\n",
       "    }\n",
       "</style>\n",
       "<table border=\"1\" class=\"dataframe\">\n",
       "  <thead>\n",
       "    <tr style=\"text-align: right;\">\n",
       "      <th></th>\n",
       "      <th>height</th>\n",
       "      <th>weight</th>\n",
       "      <th>male</th>\n",
       "      <th>earn</th>\n",
       "      <th>earnk</th>\n",
       "      <th>education</th>\n",
       "      <th>mother_education</th>\n",
       "      <th>father_education</th>\n",
       "      <th>walk</th>\n",
       "      <th>exercise</th>\n",
       "      <th>smokenow</th>\n",
       "      <th>tense</th>\n",
       "      <th>angry</th>\n",
       "      <th>age</th>\n",
       "    </tr>\n",
       "  </thead>\n",
       "  <tbody>\n",
       "    <tr>\n",
       "      <th>count</th>\n",
       "      <td>1816.000000</td>\n",
       "      <td>1789.000000</td>\n",
       "      <td>1816.000000</td>\n",
       "      <td>1816.000000</td>\n",
       "      <td>1816.000000</td>\n",
       "      <td>1814.000000</td>\n",
       "      <td>1572.000000</td>\n",
       "      <td>1521.000000</td>\n",
       "      <td>1816.000000</td>\n",
       "      <td>1816.000000</td>\n",
       "      <td>1815.000000</td>\n",
       "      <td>1815.000000</td>\n",
       "      <td>1815.000000</td>\n",
       "      <td>1816.000000</td>\n",
       "    </tr>\n",
       "    <tr>\n",
       "      <th>mean</th>\n",
       "      <td>66.568833</td>\n",
       "      <td>156.305198</td>\n",
       "      <td>0.371696</td>\n",
       "      <td>21147.296256</td>\n",
       "      <td>21.147296</td>\n",
       "      <td>13.235391</td>\n",
       "      <td>13.608779</td>\n",
       "      <td>13.652202</td>\n",
       "      <td>5.303414</td>\n",
       "      <td>3.049009</td>\n",
       "      <td>1.745455</td>\n",
       "      <td>1.421488</td>\n",
       "      <td>1.421488</td>\n",
       "      <td>42.934471</td>\n",
       "    </tr>\n",
       "    <tr>\n",
       "      <th>std</th>\n",
       "      <td>3.831822</td>\n",
       "      <td>34.617059</td>\n",
       "      <td>0.483391</td>\n",
       "      <td>22531.765123</td>\n",
       "      <td>22.531765</td>\n",
       "      <td>2.556638</td>\n",
       "      <td>3.219372</td>\n",
       "      <td>3.250811</td>\n",
       "      <td>2.601104</td>\n",
       "      <td>2.316385</td>\n",
       "      <td>0.435725</td>\n",
       "      <td>2.157850</td>\n",
       "      <td>2.157850</td>\n",
       "      <td>17.161672</td>\n",
       "    </tr>\n",
       "    <tr>\n",
       "      <th>min</th>\n",
       "      <td>57.000000</td>\n",
       "      <td>80.000000</td>\n",
       "      <td>0.000000</td>\n",
       "      <td>0.000000</td>\n",
       "      <td>0.000000</td>\n",
       "      <td>2.000000</td>\n",
       "      <td>3.000000</td>\n",
       "      <td>3.000000</td>\n",
       "      <td>1.000000</td>\n",
       "      <td>1.000000</td>\n",
       "      <td>1.000000</td>\n",
       "      <td>0.000000</td>\n",
       "      <td>0.000000</td>\n",
       "      <td>18.000000</td>\n",
       "    </tr>\n",
       "    <tr>\n",
       "      <th>25%</th>\n",
       "      <td>64.000000</td>\n",
       "      <td>130.000000</td>\n",
       "      <td>0.000000</td>\n",
       "      <td>6000.000000</td>\n",
       "      <td>6.000000</td>\n",
       "      <td>12.000000</td>\n",
       "      <td>12.000000</td>\n",
       "      <td>12.000000</td>\n",
       "      <td>3.000000</td>\n",
       "      <td>1.000000</td>\n",
       "      <td>1.000000</td>\n",
       "      <td>0.000000</td>\n",
       "      <td>0.000000</td>\n",
       "      <td>29.000000</td>\n",
       "    </tr>\n",
       "    <tr>\n",
       "      <th>50%</th>\n",
       "      <td>66.000000</td>\n",
       "      <td>150.000000</td>\n",
       "      <td>0.000000</td>\n",
       "      <td>16000.000000</td>\n",
       "      <td>16.000000</td>\n",
       "      <td>12.000000</td>\n",
       "      <td>13.000000</td>\n",
       "      <td>13.000000</td>\n",
       "      <td>6.000000</td>\n",
       "      <td>2.000000</td>\n",
       "      <td>2.000000</td>\n",
       "      <td>0.000000</td>\n",
       "      <td>0.000000</td>\n",
       "      <td>39.000000</td>\n",
       "    </tr>\n",
       "    <tr>\n",
       "      <th>75%</th>\n",
       "      <td>69.250000</td>\n",
       "      <td>180.000000</td>\n",
       "      <td>1.000000</td>\n",
       "      <td>27000.000000</td>\n",
       "      <td>27.000000</td>\n",
       "      <td>15.000000</td>\n",
       "      <td>16.000000</td>\n",
       "      <td>16.000000</td>\n",
       "      <td>8.000000</td>\n",
       "      <td>5.000000</td>\n",
       "      <td>2.000000</td>\n",
       "      <td>2.000000</td>\n",
       "      <td>2.000000</td>\n",
       "      <td>56.000000</td>\n",
       "    </tr>\n",
       "    <tr>\n",
       "      <th>max</th>\n",
       "      <td>82.000000</td>\n",
       "      <td>342.000000</td>\n",
       "      <td>1.000000</td>\n",
       "      <td>400000.000000</td>\n",
       "      <td>400.000000</td>\n",
       "      <td>18.000000</td>\n",
       "      <td>99.000000</td>\n",
       "      <td>99.000000</td>\n",
       "      <td>8.000000</td>\n",
       "      <td>7.000000</td>\n",
       "      <td>2.000000</td>\n",
       "      <td>7.000000</td>\n",
       "      <td>7.000000</td>\n",
       "      <td>91.000000</td>\n",
       "    </tr>\n",
       "  </tbody>\n",
       "</table>\n",
       "</div>"
      ],
      "text/plain": [
       "            height       weight         male           earn        earnk  \\\n",
       "count  1816.000000  1789.000000  1816.000000    1816.000000  1816.000000   \n",
       "mean     66.568833   156.305198     0.371696   21147.296256    21.147296   \n",
       "std       3.831822    34.617059     0.483391   22531.765123    22.531765   \n",
       "min      57.000000    80.000000     0.000000       0.000000     0.000000   \n",
       "25%      64.000000   130.000000     0.000000    6000.000000     6.000000   \n",
       "50%      66.000000   150.000000     0.000000   16000.000000    16.000000   \n",
       "75%      69.250000   180.000000     1.000000   27000.000000    27.000000   \n",
       "max      82.000000   342.000000     1.000000  400000.000000   400.000000   \n",
       "\n",
       "         education  mother_education  father_education         walk  \\\n",
       "count  1814.000000       1572.000000       1521.000000  1816.000000   \n",
       "mean     13.235391         13.608779         13.652202     5.303414   \n",
       "std       2.556638          3.219372          3.250811     2.601104   \n",
       "min       2.000000          3.000000          3.000000     1.000000   \n",
       "25%      12.000000         12.000000         12.000000     3.000000   \n",
       "50%      12.000000         13.000000         13.000000     6.000000   \n",
       "75%      15.000000         16.000000         16.000000     8.000000   \n",
       "max      18.000000         99.000000         99.000000     8.000000   \n",
       "\n",
       "          exercise     smokenow        tense        angry          age  \n",
       "count  1816.000000  1815.000000  1815.000000  1815.000000  1816.000000  \n",
       "mean      3.049009     1.745455     1.421488     1.421488    42.934471  \n",
       "std       2.316385     0.435725     2.157850     2.157850    17.161672  \n",
       "min       1.000000     1.000000     0.000000     0.000000    18.000000  \n",
       "25%       1.000000     1.000000     0.000000     0.000000    29.000000  \n",
       "50%       2.000000     2.000000     0.000000     0.000000    39.000000  \n",
       "75%       5.000000     2.000000     2.000000     2.000000    56.000000  \n",
       "max       7.000000     2.000000     7.000000     7.000000    91.000000  "
      ]
     },
     "metadata": {},
     "output_type": "display_data"
    }
   ],
   "source": [
    "data = pd.read_csv('earnings.csv')\n",
    "# Exploración inicial de los datos\n",
    "display(data.info())\n",
    "display(data.describe())"
   ]
  },
  {
   "cell_type": "code",
   "execution_count": 3,
   "id": "359d7254-167a-4cdd-a904-ac13ee9408ed",
   "metadata": {},
   "outputs": [
    {
     "data": {
      "text/plain": [
       "Text(0.5, 1.0, 'Mapa de valores nulos en el data frame')"
      ]
     },
     "execution_count": 3,
     "metadata": {},
     "output_type": "execute_result"
    },
    {
     "data": {
      "image/png": "[encoded data removed]",
      "text/plain": [
       "<Figure size 640x480 with 1 Axes>"
      ]
     },
     "metadata": {},
     "output_type": "display_data"
    }
   ],
   "source": [
    "#Creamos un heatmap para visualizar mejor los valores nulos en cada columna\n",
    "sns.heatmap(data.isnull(), cmap='summer', cbar=False, yticklabels=False)\n",
    "plt.title('Mapa de valores nulos en el data frame')"
   ]
  },
  {
   "cell_type": "markdown",
   "id": "c6959a59-c23c-4c2f-ad7b-2f5cf2ecf858",
   "metadata": {},
   "source": [
    "Si bien hay algunas columnas que tienen valores nulos, éstas no las utilizaremos por lo que no limpiaré el dataframe. Pero hay que tener en cuenta que siempre es mejor trabajar con un dataframe 100% limpio."
   ]
  },
  {
   "cell_type": "code",
   "execution_count": 4,
   "id": "ab64ca00-f329-4cfe-82c1-0519fef73edc",
   "metadata": {},
   "outputs": [
    {
     "data": {
      "text/plain": [
       "Text(0.5, 1.0, 'Visualización de outliers en columnas de interés')"
      ]
     },
     "execution_count": 4,
     "metadata": {},
     "output_type": "execute_result"
    },
    {
     "data": {
      "image/png": "[encoded data removed]",
      "text/plain": [
       "<Figure size 1200x500 with 1 Axes>"
      ]
     },
     "metadata": {},
     "output_type": "display_data"
    }
   ],
   "source": [
    "#Creamos un boxplot para visualizar outliers en las columnas con las que trabajaremos\n",
    "plt.figure(figsize=(12, 5))\n",
    "sns.boxplot(data=data[['earn', 'height', 'age']])\n",
    "plt.title('Visualización de outliers en columnas de interés')"
   ]
  },
  {
   "cell_type": "markdown",
   "id": "d0e8869d-82e4-4a16-bde1-da001f43ae13",
   "metadata": {},
   "source": [
    "En el caso de la columna earn, existen outliers (y uno con un valor muy extremo). Quiero ver como afectarían estos outliers al desarrollo de la tarea por lo que trabajaré con dos dataframes nuevos: uno sin outliers y el otro con outliers."
   ]
  },
  {
   "cell_type": "code",
   "execution_count": 5,
   "id": "7dfa256a-27aa-4fcf-b293-3a6f93c1c396",
   "metadata": {},
   "outputs": [],
   "source": [
    "#Función para remover outliers basada en el criterio del rango intercuartílico\n",
    "def remover_outliers(df, columna):\n",
    "    Q1=df[columna].quantile(0.25)\n",
    "    Q3=df[columna].quantile(0.75)\n",
    "    IQR=Q3-Q1\n",
    "    filtro=(df[columna]>=(Q1-1.5*IQR))&(df[columna]<=(Q3+1.5*IQR))\n",
    "    return df[filtro]\n",
    "\n",
    "#Nuevo dataset sin outliers\n",
    "data_wo_out=data.copy()\n",
    "for col in ['earn','height','age']:\n",
    "    data_wo_out=remover_outliers(data_wo_out, col)"
   ]
  },
  {
   "cell_type": "code",
   "execution_count": 6,
   "id": "71a0252f-7810-47e2-a76c-e2ece0f1d65d",
   "metadata": {},
   "outputs": [
    {
     "data": {
      "text/html": [
       "<div>\n",
       "<style scoped>\n",
       "    .dataframe tbody tr th:only-of-type {\n",
       "        vertical-align: middle;\n",
       "    }\n",
       "\n",
       "    .dataframe tbody tr th {\n",
       "        vertical-align: top;\n",
       "    }\n",
       "\n",
       "    .dataframe thead th {\n",
       "        text-align: right;\n",
       "    }\n",
       "</style>\n",
       "<table border=\"1\" class=\"dataframe\">\n",
       "  <thead>\n",
       "    <tr style=\"text-align: right;\">\n",
       "      <th></th>\n",
       "      <th>height</th>\n",
       "      <th>weight</th>\n",
       "      <th>male</th>\n",
       "      <th>earn</th>\n",
       "      <th>earnk</th>\n",
       "      <th>education</th>\n",
       "      <th>mother_education</th>\n",
       "      <th>father_education</th>\n",
       "      <th>walk</th>\n",
       "      <th>exercise</th>\n",
       "      <th>smokenow</th>\n",
       "      <th>tense</th>\n",
       "      <th>angry</th>\n",
       "      <th>age</th>\n",
       "    </tr>\n",
       "  </thead>\n",
       "  <tbody>\n",
       "    <tr>\n",
       "      <th>count</th>\n",
       "      <td>1716.000000</td>\n",
       "      <td>1689.000000</td>\n",
       "      <td>1716.000000</td>\n",
       "      <td>1716.000000</td>\n",
       "      <td>1716.000000</td>\n",
       "      <td>1714.000000</td>\n",
       "      <td>1481.000000</td>\n",
       "      <td>1431.000000</td>\n",
       "      <td>1716.000000</td>\n",
       "      <td>1716.000000</td>\n",
       "      <td>1715.000000</td>\n",
       "      <td>1715.000000</td>\n",
       "      <td>1715.000000</td>\n",
       "      <td>1716.000000</td>\n",
       "    </tr>\n",
       "    <tr>\n",
       "      <th>mean</th>\n",
       "      <td>66.387529</td>\n",
       "      <td>155.241563</td>\n",
       "      <td>0.349650</td>\n",
       "      <td>17436.182984</td>\n",
       "      <td>17.436183</td>\n",
       "      <td>13.120770</td>\n",
       "      <td>13.501013</td>\n",
       "      <td>13.542278</td>\n",
       "      <td>5.290793</td>\n",
       "      <td>3.029720</td>\n",
       "      <td>1.741691</td>\n",
       "      <td>1.449563</td>\n",
       "      <td>1.449563</td>\n",
       "      <td>42.606643</td>\n",
       "    </tr>\n",
       "    <tr>\n",
       "      <th>std</th>\n",
       "      <td>3.745341</td>\n",
       "      <td>34.326556</td>\n",
       "      <td>0.476999</td>\n",
       "      <td>13084.561029</td>\n",
       "      <td>13.084561</td>\n",
       "      <td>2.517191</td>\n",
       "      <td>3.239771</td>\n",
       "      <td>3.275165</td>\n",
       "      <td>2.604537</td>\n",
       "      <td>2.313792</td>\n",
       "      <td>0.437832</td>\n",
       "      <td>2.178229</td>\n",
       "      <td>2.178229</td>\n",
       "      <td>17.273608</td>\n",
       "    </tr>\n",
       "    <tr>\n",
       "      <th>min</th>\n",
       "      <td>57.000000</td>\n",
       "      <td>80.000000</td>\n",
       "      <td>0.000000</td>\n",
       "      <td>0.000000</td>\n",
       "      <td>0.000000</td>\n",
       "      <td>2.000000</td>\n",
       "      <td>3.000000</td>\n",
       "      <td>3.000000</td>\n",
       "      <td>1.000000</td>\n",
       "      <td>1.000000</td>\n",
       "      <td>1.000000</td>\n",
       "      <td>0.000000</td>\n",
       "      <td>0.000000</td>\n",
       "      <td>18.000000</td>\n",
       "    </tr>\n",
       "    <tr>\n",
       "      <th>25%</th>\n",
       "      <td>64.000000</td>\n",
       "      <td>130.000000</td>\n",
       "      <td>0.000000</td>\n",
       "      <td>5093.000000</td>\n",
       "      <td>5.093000</td>\n",
       "      <td>12.000000</td>\n",
       "      <td>12.000000</td>\n",
       "      <td>12.000000</td>\n",
       "      <td>3.000000</td>\n",
       "      <td>1.000000</td>\n",
       "      <td>1.000000</td>\n",
       "      <td>0.000000</td>\n",
       "      <td>0.000000</td>\n",
       "      <td>29.000000</td>\n",
       "    </tr>\n",
       "    <tr>\n",
       "      <th>50%</th>\n",
       "      <td>66.000000</td>\n",
       "      <td>150.000000</td>\n",
       "      <td>0.000000</td>\n",
       "      <td>15000.000000</td>\n",
       "      <td>15.000000</td>\n",
       "      <td>12.000000</td>\n",
       "      <td>13.000000</td>\n",
       "      <td>13.000000</td>\n",
       "      <td>6.000000</td>\n",
       "      <td>2.000000</td>\n",
       "      <td>2.000000</td>\n",
       "      <td>0.000000</td>\n",
       "      <td>0.000000</td>\n",
       "      <td>39.000000</td>\n",
       "    </tr>\n",
       "    <tr>\n",
       "      <th>75%</th>\n",
       "      <td>69.000000</td>\n",
       "      <td>175.000000</td>\n",
       "      <td>1.000000</td>\n",
       "      <td>25000.000000</td>\n",
       "      <td>25.000000</td>\n",
       "      <td>15.000000</td>\n",
       "      <td>16.000000</td>\n",
       "      <td>16.000000</td>\n",
       "      <td>8.000000</td>\n",
       "      <td>5.000000</td>\n",
       "      <td>2.000000</td>\n",
       "      <td>2.000000</td>\n",
       "      <td>2.000000</td>\n",
       "      <td>55.250000</td>\n",
       "    </tr>\n",
       "    <tr>\n",
       "      <th>max</th>\n",
       "      <td>76.000000</td>\n",
       "      <td>342.000000</td>\n",
       "      <td>1.000000</td>\n",
       "      <td>58000.000000</td>\n",
       "      <td>58.000000</td>\n",
       "      <td>18.000000</td>\n",
       "      <td>99.000000</td>\n",
       "      <td>99.000000</td>\n",
       "      <td>8.000000</td>\n",
       "      <td>7.000000</td>\n",
       "      <td>2.000000</td>\n",
       "      <td>7.000000</td>\n",
       "      <td>7.000000</td>\n",
       "      <td>91.000000</td>\n",
       "    </tr>\n",
       "  </tbody>\n",
       "</table>\n",
       "</div>"
      ],
      "text/plain": [
       "            height       weight         male          earn        earnk  \\\n",
       "count  1716.000000  1689.000000  1716.000000   1716.000000  1716.000000   \n",
       "mean     66.387529   155.241563     0.349650  17436.182984    17.436183   \n",
       "std       3.745341    34.326556     0.476999  13084.561029    13.084561   \n",
       "min      57.000000    80.000000     0.000000      0.000000     0.000000   \n",
       "25%      64.000000   130.000000     0.000000   5093.000000     5.093000   \n",
       "50%      66.000000   150.000000     0.000000  15000.000000    15.000000   \n",
       "75%      69.000000   175.000000     1.000000  25000.000000    25.000000   \n",
       "max      76.000000   342.000000     1.000000  58000.000000    58.000000   \n",
       "\n",
       "         education  mother_education  father_education         walk  \\\n",
       "count  1714.000000       1481.000000       1431.000000  1716.000000   \n",
       "mean     13.120770         13.501013         13.542278     5.290793   \n",
       "std       2.517191          3.239771          3.275165     2.604537   \n",
       "min       2.000000          3.000000          3.000000     1.000000   \n",
       "25%      12.000000         12.000000         12.000000     3.000000   \n",
       "50%      12.000000         13.000000         13.000000     6.000000   \n",
       "75%      15.000000         16.000000         16.000000     8.000000   \n",
       "max      18.000000         99.000000         99.000000     8.000000   \n",
       "\n",
       "          exercise     smokenow        tense        angry          age  \n",
       "count  1716.000000  1715.000000  1715.000000  1715.000000  1716.000000  \n",
       "mean      3.029720     1.741691     1.449563     1.449563    42.606643  \n",
       "std       2.313792     0.437832     2.178229     2.178229    17.273608  \n",
       "min       1.000000     1.000000     0.000000     0.000000    18.000000  \n",
       "25%       1.000000     1.000000     0.000000     0.000000    29.000000  \n",
       "50%       2.000000     2.000000     0.000000     0.000000    39.000000  \n",
       "75%       5.000000     2.000000     2.000000     2.000000    55.250000  \n",
       "max       7.000000     2.000000     7.000000     7.000000    91.000000  "
      ]
     },
     "execution_count": 6,
     "metadata": {},
     "output_type": "execute_result"
    }
   ],
   "source": [
    "data_wo_out.describe()"
   ]
  },
  {
   "cell_type": "code",
   "execution_count": 7,
   "id": "a779ad16-0d28-4969-ba5c-6d2eeb211517",
   "metadata": {},
   "outputs": [
    {
     "data": {
      "text/html": [
       "<div>\n",
       "<style scoped>\n",
       "    .dataframe tbody tr th:only-of-type {\n",
       "        vertical-align: middle;\n",
       "    }\n",
       "\n",
       "    .dataframe tbody tr th {\n",
       "        vertical-align: top;\n",
       "    }\n",
       "\n",
       "    .dataframe thead th {\n",
       "        text-align: right;\n",
       "    }\n",
       "</style>\n",
       "<table border=\"1\" class=\"dataframe\">\n",
       "  <thead>\n",
       "    <tr style=\"text-align: right;\">\n",
       "      <th></th>\n",
       "      <th>height</th>\n",
       "      <th>weight</th>\n",
       "      <th>male</th>\n",
       "      <th>earn</th>\n",
       "      <th>earnk</th>\n",
       "      <th>education</th>\n",
       "      <th>mother_education</th>\n",
       "      <th>father_education</th>\n",
       "      <th>walk</th>\n",
       "      <th>exercise</th>\n",
       "      <th>smokenow</th>\n",
       "      <th>tense</th>\n",
       "      <th>angry</th>\n",
       "      <th>age</th>\n",
       "    </tr>\n",
       "  </thead>\n",
       "  <tbody>\n",
       "    <tr>\n",
       "      <th>count</th>\n",
       "      <td>1816.000000</td>\n",
       "      <td>1789.000000</td>\n",
       "      <td>1816.000000</td>\n",
       "      <td>1816.000000</td>\n",
       "      <td>1816.000000</td>\n",
       "      <td>1814.000000</td>\n",
       "      <td>1572.000000</td>\n",
       "      <td>1521.000000</td>\n",
       "      <td>1816.000000</td>\n",
       "      <td>1816.000000</td>\n",
       "      <td>1815.000000</td>\n",
       "      <td>1815.000000</td>\n",
       "      <td>1815.000000</td>\n",
       "      <td>1816.000000</td>\n",
       "    </tr>\n",
       "    <tr>\n",
       "      <th>mean</th>\n",
       "      <td>66.568833</td>\n",
       "      <td>156.305198</td>\n",
       "      <td>0.371696</td>\n",
       "      <td>21147.296256</td>\n",
       "      <td>21.147296</td>\n",
       "      <td>13.235391</td>\n",
       "      <td>13.608779</td>\n",
       "      <td>13.652202</td>\n",
       "      <td>5.303414</td>\n",
       "      <td>3.049009</td>\n",
       "      <td>1.745455</td>\n",
       "      <td>1.421488</td>\n",
       "      <td>1.421488</td>\n",
       "      <td>42.934471</td>\n",
       "    </tr>\n",
       "    <tr>\n",
       "      <th>std</th>\n",
       "      <td>3.831822</td>\n",
       "      <td>34.617059</td>\n",
       "      <td>0.483391</td>\n",
       "      <td>22531.765123</td>\n",
       "      <td>22.531765</td>\n",
       "      <td>2.556638</td>\n",
       "      <td>3.219372</td>\n",
       "      <td>3.250811</td>\n",
       "      <td>2.601104</td>\n",
       "      <td>2.316385</td>\n",
       "      <td>0.435725</td>\n",
       "      <td>2.157850</td>\n",
       "      <td>2.157850</td>\n",
       "      <td>17.161672</td>\n",
       "    </tr>\n",
       "    <tr>\n",
       "      <th>min</th>\n",
       "      <td>57.000000</td>\n",
       "      <td>80.000000</td>\n",
       "      <td>0.000000</td>\n",
       "      <td>0.000000</td>\n",
       "      <td>0.000000</td>\n",
       "      <td>2.000000</td>\n",
       "      <td>3.000000</td>\n",
       "      <td>3.000000</td>\n",
       "      <td>1.000000</td>\n",
       "      <td>1.000000</td>\n",
       "      <td>1.000000</td>\n",
       "      <td>0.000000</td>\n",
       "      <td>0.000000</td>\n",
       "      <td>18.000000</td>\n",
       "    </tr>\n",
       "    <tr>\n",
       "      <th>25%</th>\n",
       "      <td>64.000000</td>\n",
       "      <td>130.000000</td>\n",
       "      <td>0.000000</td>\n",
       "      <td>6000.000000</td>\n",
       "      <td>6.000000</td>\n",
       "      <td>12.000000</td>\n",
       "      <td>12.000000</td>\n",
       "      <td>12.000000</td>\n",
       "      <td>3.000000</td>\n",
       "      <td>1.000000</td>\n",
       "      <td>1.000000</td>\n",
       "      <td>0.000000</td>\n",
       "      <td>0.000000</td>\n",
       "      <td>29.000000</td>\n",
       "    </tr>\n",
       "    <tr>\n",
       "      <th>50%</th>\n",
       "      <td>66.000000</td>\n",
       "      <td>150.000000</td>\n",
       "      <td>0.000000</td>\n",
       "      <td>16000.000000</td>\n",
       "      <td>16.000000</td>\n",
       "      <td>12.000000</td>\n",
       "      <td>13.000000</td>\n",
       "      <td>13.000000</td>\n",
       "      <td>6.000000</td>\n",
       "      <td>2.000000</td>\n",
       "      <td>2.000000</td>\n",
       "      <td>0.000000</td>\n",
       "      <td>0.000000</td>\n",
       "      <td>39.000000</td>\n",
       "    </tr>\n",
       "    <tr>\n",
       "      <th>75%</th>\n",
       "      <td>69.250000</td>\n",
       "      <td>180.000000</td>\n",
       "      <td>1.000000</td>\n",
       "      <td>27000.000000</td>\n",
       "      <td>27.000000</td>\n",
       "      <td>15.000000</td>\n",
       "      <td>16.000000</td>\n",
       "      <td>16.000000</td>\n",
       "      <td>8.000000</td>\n",
       "      <td>5.000000</td>\n",
       "      <td>2.000000</td>\n",
       "      <td>2.000000</td>\n",
       "      <td>2.000000</td>\n",
       "      <td>56.000000</td>\n",
       "    </tr>\n",
       "    <tr>\n",
       "      <th>max</th>\n",
       "      <td>82.000000</td>\n",
       "      <td>342.000000</td>\n",
       "      <td>1.000000</td>\n",
       "      <td>400000.000000</td>\n",
       "      <td>400.000000</td>\n",
       "      <td>18.000000</td>\n",
       "      <td>99.000000</td>\n",
       "      <td>99.000000</td>\n",
       "      <td>8.000000</td>\n",
       "      <td>7.000000</td>\n",
       "      <td>2.000000</td>\n",
       "      <td>7.000000</td>\n",
       "      <td>7.000000</td>\n",
       "      <td>91.000000</td>\n",
       "    </tr>\n",
       "  </tbody>\n",
       "</table>\n",
       "</div>"
      ],
      "text/plain": [
       "            height       weight         male           earn        earnk  \\\n",
       "count  1816.000000  1789.000000  1816.000000    1816.000000  1816.000000   \n",
       "mean     66.568833   156.305198     0.371696   21147.296256    21.147296   \n",
       "std       3.831822    34.617059     0.483391   22531.765123    22.531765   \n",
       "min      57.000000    80.000000     0.000000       0.000000     0.000000   \n",
       "25%      64.000000   130.000000     0.000000    6000.000000     6.000000   \n",
       "50%      66.000000   150.000000     0.000000   16000.000000    16.000000   \n",
       "75%      69.250000   180.000000     1.000000   27000.000000    27.000000   \n",
       "max      82.000000   342.000000     1.000000  400000.000000   400.000000   \n",
       "\n",
       "         education  mother_education  father_education         walk  \\\n",
       "count  1814.000000       1572.000000       1521.000000  1816.000000   \n",
       "mean     13.235391         13.608779         13.652202     5.303414   \n",
       "std       2.556638          3.219372          3.250811     2.601104   \n",
       "min       2.000000          3.000000          3.000000     1.000000   \n",
       "25%      12.000000         12.000000         12.000000     3.000000   \n",
       "50%      12.000000         13.000000         13.000000     6.000000   \n",
       "75%      15.000000         16.000000         16.000000     8.000000   \n",
       "max      18.000000         99.000000         99.000000     8.000000   \n",
       "\n",
       "          exercise     smokenow        tense        angry          age  \n",
       "count  1816.000000  1815.000000  1815.000000  1815.000000  1816.000000  \n",
       "mean      3.049009     1.745455     1.421488     1.421488    42.934471  \n",
       "std       2.316385     0.435725     2.157850     2.157850    17.161672  \n",
       "min       1.000000     1.000000     0.000000     0.000000    18.000000  \n",
       "25%       1.000000     1.000000     0.000000     0.000000    29.000000  \n",
       "50%       2.000000     2.000000     0.000000     0.000000    39.000000  \n",
       "75%       5.000000     2.000000     2.000000     2.000000    56.000000  \n",
       "max       7.000000     2.000000     7.000000     7.000000    91.000000  "
      ]
     },
     "execution_count": 7,
     "metadata": {},
     "output_type": "execute_result"
    }
   ],
   "source": [
    "data.describe()"
   ]
  },
  {
   "cell_type": "markdown",
   "id": "ca3e2418-8d10-4e09-8ac0-d24d737aeddf",
   "metadata": {},
   "source": [
    "a. Realiza 12 pruebas (4 por cada variable) con muestras de tamaño n = 25, en cada caso, con niveles de significancia diferentes pero inferiores a 0,1, para confirmar o rechazar las siguientes hipótesis considerando las alternativas.\n",
    "Crea para ello una fórmula que reciba los parámetros adecuados y responda \"con nivel de confianza del ...%, se acepta la hipótesis nula/alternativa\".\n",
    "\n",
    "<img src='tabla_desafio5.png'>"
   ]
  },
  {
   "cell_type": "code",
   "execution_count": 8,
   "id": "38b5b9cc-491e-4138-ae8f-5d54e9be188d",
   "metadata": {},
   "outputs": [],
   "source": [
    "#Definimos la función para realizar pruebas de hipótesis\n",
    "def prueba_hipotesis(datos, mu, alpha, tipo_prueba='dos_colas'):\n",
    "    \"\"\"\n",
    "    Realiza una prueba de hipótesis de media para una muestra dada.\n",
    "    \n",
    "    Parámetros:\n",
    "    -datos: Muestra de datos sobre la que se realiza la prueba.\n",
    "    -mu: Valor de la media poblacional bajo la hipótesis nula (H0).\n",
    "    -alpha: Nivel de significancia.\n",
    "    -tipo_prueba: 'dos_colas', 'cola_derecha', 'cola_izquierda'\n",
    "    \"\"\"\n",
    "    #Seleccionamos 25 valores aleatorios de datos\n",
    "    muestra=np.random.choice(datos, size=25, replace=False)\n",
    "    #Realizamos la prueba t de la muestra\n",
    "    t_stat, p_value=stats.ttest_1samp(muestra, mu)\n",
    "\n",
    "    #Aqui decidimos si se rechaza H0 o no\n",
    "    if tipo_prueba=='dos_colas':\n",
    "        t_stat, p_value=stats.ttest_1samp(muestra, mu,alternative='two-sided')\n",
    "    elif tipo_prueba=='cola_derecha':\n",
    "        t_stat, p_value=stats.ttest_1samp(muestra, mu,alternative='greater')\n",
    "    else:  #cola izquierda\n",
    "        t_stat, p_value=stats.ttest_1samp(muestra, mu,alternative='less')\n",
    "    decision=p_value < alpha #Estas operaciones me entregan valores booleanos True o False\n",
    "\n",
    "    #Finalmente generamos la conclusión\n",
    "    conclusion='se acepta la hipótesis alternativa' if decision else 'se acepta la hipótesis nula'\n",
    "    #Calculamos el nivel de confianza\n",
    "    nivel_confianza=(1 - alpha) * 100\n",
    "    return p_value,alpha,'Con nivel de confianza del '+str(nivel_confianza)+'%, '+str(conclusion)"
   ]
  },
  {
   "cell_type": "code",
   "execution_count": 9,
   "id": "6598924d-b6a8-443d-b2b5-a8206a90917a",
   "metadata": {},
   "outputs": [],
   "source": [
    "#Definimos las listas con los valores que queremos recorrer\n",
    "variables=['earn','height','age']\n",
    "values=[[20000,35000,25000,32000],[55,68,63,70],[44,56,51,62]]\n",
    "tests=['dos_colas','dos_colas','cola_derecha','cola_izquierda']\n",
    "levels=[0.05,0.1,0.03,0.07]\n",
    "p1,p2=[],[]\n",
    "a1,a2=[],[]\n",
    "results_outliers=[]\n",
    "results_wo_outliers=[]\n",
    "\n",
    "#Recorremos las listas \n",
    "for i in range(len(variables)):\n",
    "    for j in range(len(values[i])):\n",
    "        #Hacemos la prueba de hipótesis con la función creada anteriormente\n",
    "        #Dataset con outliers\n",
    "        prueba1=prueba_hipotesis(data[variables[i]],values[i][j],levels[j],tests[j])\n",
    "        results_outliers.append(prueba1[2])\n",
    "        p1.append(prueba1[0])\n",
    "        a1.append(prueba1[1])\n",
    "        #Dataset sin outliers\n",
    "        prueba2=prueba_hipotesis(data_wo_out[variables[i]],values[i][j],levels[j],tests[j])\n",
    "        results_wo_outliers.append(prueba2[2])\n",
    "        p2.append(prueba2[0])\n",
    "        a2.append(prueba2[1])"
   ]
  },
  {
   "cell_type": "code",
   "execution_count": 10,
   "id": "5e0c48dc-e85d-4df8-96f9-80c8c26581fb",
   "metadata": {},
   "outputs": [
    {
     "name": "stdout",
     "output_type": "stream",
     "text": [
      "0.12839386831658778 0.05\n",
      "Con nivel de confianza del 95.0%, se acepta la hipótesis nula --> con outliers\n",
      "Con nivel de confianza del 95.0%, se acepta la hipótesis nula --> sin outliers\n",
      "\n",
      "3.126677573406095e-07 0.1\n",
      "Con nivel de confianza del 90.0%, se acepta la hipótesis alternativa --> con outliers\n",
      "Con nivel de confianza del 90.0%, se acepta la hipótesis alternativa --> sin outliers\n",
      "\n",
      "0.9558718447091412 0.03\n",
      "Con nivel de confianza del 97.0%, se acepta la hipótesis nula --> con outliers\n",
      "Con nivel de confianza del 97.0%, se acepta la hipótesis nula --> sin outliers\n",
      "\n",
      "0.006001457342104705 0.07\n",
      "Con nivel de confianza del 93.0%, se acepta la hipótesis alternativa --> con outliers\n",
      "Con nivel de confianza del 93.0%, se acepta la hipótesis alternativa --> sin outliers\n",
      "\n",
      "1.80300970111781e-13 0.05\n",
      "Con nivel de confianza del 95.0%, se acepta la hipótesis alternativa --> con outliers\n",
      "Con nivel de confianza del 95.0%, se acepta la hipótesis alternativa --> sin outliers\n",
      "\n",
      "0.8850436896360079 0.1\n",
      "Con nivel de confianza del 90.0%, se acepta la hipótesis nula --> con outliers\n",
      "Con nivel de confianza del 90.0%, se acepta la hipótesis alternativa --> sin outliers\n",
      "\n",
      "2.7378849196998295e-05 0.03\n",
      "Con nivel de confianza del 97.0%, se acepta la hipótesis alternativa --> con outliers\n",
      "Con nivel de confianza del 97.0%, se acepta la hipótesis alternativa --> sin outliers\n",
      "\n",
      "0.0012185656225659593 0.07\n",
      "Con nivel de confianza del 93.0%, se acepta la hipótesis alternativa --> con outliers\n",
      "Con nivel de confianza del 93.0%, se acepta la hipótesis alternativa --> sin outliers\n",
      "\n",
      "0.841344116062991 0.05\n",
      "Con nivel de confianza del 95.0%, se acepta la hipótesis nula --> con outliers\n",
      "Con nivel de confianza del 95.0%, se acepta la hipótesis nula --> sin outliers\n",
      "\n",
      "0.0006209610718359498 0.1\n",
      "Con nivel de confianza del 90.0%, se acepta la hipótesis alternativa --> con outliers\n",
      "Con nivel de confianza del 90.0%, se acepta la hipótesis alternativa --> sin outliers\n",
      "\n",
      "0.974034124915952 0.03\n",
      "Con nivel de confianza del 97.0%, se acepta la hipótesis nula --> con outliers\n",
      "Con nivel de confianza del 97.0%, se acepta la hipótesis nula --> sin outliers\n",
      "\n",
      "0.0008367014045562805 0.07\n",
      "Con nivel de confianza del 93.0%, se acepta la hipótesis alternativa --> con outliers\n",
      "Con nivel de confianza del 93.0%, se acepta la hipótesis alternativa --> sin outliers\n",
      "\n"
     ]
    }
   ],
   "source": [
    "for i in range(len(results_outliers)):\n",
    "    print (p1[i],a1[i])\n",
    "    print (results_outliers[i],'--> con outliers')\n",
    "    print (results_wo_outliers[i],'--> sin outliers')\n",
    "    print ('')"
   ]
  },
  {
   "cell_type": "markdown",
   "id": "80af3d5f-46f3-428c-8710-c90d99ddb6d1",
   "metadata": {},
   "source": [
    "Como podemos apreciar, en solo 1 caso los resultados son distintos si se consideran outliers o no. Pero creo que para efectos prácticos de este desafío no hay que eliminar los outliers de la muestra de datos."
   ]
  },
  {
   "cell_type": "markdown",
   "id": "7139c8ad-6a9c-41b5-93c2-c4096382be79",
   "metadata": {},
   "source": [
    "b. Calcula la media poblacional para cada variable. ¿Son correctos los resultados obtenidos por tus pruebas?"
   ]
  },
  {
   "cell_type": "code",
   "execution_count": 54,
   "id": "62a181fa-e221-42fe-a45b-152846ce7a52",
   "metadata": {},
   "outputs": [
    {
     "name": "stdout",
     "output_type": "stream",
     "text": [
      "Media poblacional de earn:  21147.296255506608 +- 22531.76512330289 --> con outliers\n",
      "Media poblacional de earn:  17436.182983682982 +- 13084.561028776188 --> sin outliers\n",
      "\n",
      "Media poblacional de height:  66.56883259911895 +- 3.8318223821904533 --> con outliers\n",
      "Media poblacional de height:  66.38752913752914 +- 3.745340594035644 --> sin outliers\n",
      "\n",
      "Media poblacional de age:  42.934471365638764 +- 17.16167172391752 --> con outliers\n",
      "Media poblacional de age:  42.60664335664335 +- 17.273608246278748 --> sin outliers\n",
      "\n"
     ]
    }
   ],
   "source": [
    "for col in ['earn','height','age']:\n",
    "    print ('Media poblacional de '+str(col)+': ',data[col].mean(),'+-',str(data[col].std()),'--> con outliers')\n",
    "    print ('Media poblacional de '+str(col)+': ',data_wo_out[col].mean(),'+-',str(data_wo_out[col].std()),'--> sin outliers')\n",
    "    print ('')"
   ]
  },
  {
   "cell_type": "markdown",
   "id": "28e0b6b8-fb34-48d6-b4fa-6447ef8ab315",
   "metadata": {},
   "source": [
    "<img src='tabla_resultados_desafio5.png'>\n",
    "\n",
    "En la tabla de arriba podemos ver en verde las pruebas que obtuvieron resultados correctos y en rojo las pruebas que obtuvieron resultados erroneos. Solo una prueba tuvo error, y puede deberse a diferentes motivos. Uno de ellos puede ser que al extraer la muestra de 25 datos de forma random, la muestra de sin outliers sacó valores similares entre ellos, pero bastante diferentes a la media (por ejemplo, sacar 25 valores mayores a 72). Por otro lado, con un nivel de significancia de 0.1 la prueba tiene un margen de error mayor, lo que puede facilitar rechazar H0 (o aprobar H1) si esque la diferencia es significativa."
   ]
  },
  {
   "cell_type": "markdown",
   "id": "8f246af6-087a-46cd-b025-f23e625c29d3",
   "metadata": {},
   "source": [
    "2. Crea una función que estime la proporción de hombres en el dataset, considerando una muestra de 50 individuos, con niveles de significancia de 0,05 y 0,01. Escribe con palabras tus resultados ejecutar la función e interpreta. Compara con la proporción real."
   ]
  },
  {
   "cell_type": "code",
   "execution_count": 44,
   "id": "ceab3092-3a29-4a21-bb97-4bb06c6105e4",
   "metadata": {},
   "outputs": [],
   "source": [
    "def estimar_proporcion_hombres(datos, size, alpha):\n",
    "    \"\"\"\n",
    "    Estima la proporción de hombres en una muestra de tamaño definido.\n",
    "    Calcula intervalos de confianza para los niveles de significancia dados.\n",
    "\n",
    "    Parámetros:\n",
    "    -datos: Dataset de donde se extraerá la muestra.\n",
    "    -size: Tamaño de la muestra.\n",
    "    \"\"\"\n",
    "    #Extraemos la muestra aleatoriamente\n",
    "    muestra=np.random.choice(datos, size, replace=False)\n",
    "    #Calculamos el promedio de la muestra\n",
    "    prop_muestra=np.mean(muestra)\n",
    "    \n",
    "    resultados=[]\n",
    "    #Recorremos los valores del nivel de confianza\n",
    "    for alfa in alpha:\n",
    "        #Valor crítico de la distribución normal\n",
    "        z=stats.norm.ppf(1 - alfa/2)\n",
    "        #Calculamos los márgenes del intervalo de confianza\n",
    "        margen_error=z*np.sqrt((prop_muestra*(1-prop_muestra))/size)\n",
    "        intervalo=(prop_muestra-margen_error,prop_muestra+margen_error)\n",
    "        resultados.append('Intervalo de confianza al '+str(100*(1-alfa))+'%: '+str(intervalo))\n",
    "    return prop_muestra, resultados"
   ]
  },
  {
   "cell_type": "code",
   "execution_count": 45,
   "id": "aafede6f-6c02-43b1-b1db-0e807175885a",
   "metadata": {},
   "outputs": [
    {
     "name": "stdout",
     "output_type": "stream",
     "text": [
      "Proporción de hombres en la muestra 0.36\n",
      "Intervalo de confianza al 95.0%: (0.22695323286243094, 0.493046767137569)\n",
      "Intervalo de confianza al 99.0%: (0.18514690869902886, 0.5348530913009711)\n",
      "Proporción real de hombres en el dataset 0.3716960352422907\n"
     ]
    }
   ],
   "source": [
    "alpha=[0.05,0.01]\n",
    "a=estimar_proporcion_hombres(data['male'],50,alpha)\n",
    "print ('Proporción de hombres en la muestra',a[0])\n",
    "print (a[1][0])\n",
    "print (a[1][1])\n",
    "print ('Proporción real de hombres en el dataset',np.mean(data['male']))"
   ]
  },
  {
   "cell_type": "markdown",
   "id": "1ddb3ade-8c0a-42e9-9ce3-0eafb681d770",
   "metadata": {},
   "source": [
    "La proporción estimada en la muestra es muy cercana a la proporcion real, por lo que la muestra tomada de 50 individuos es representativa de la poblacion total.\n",
    "\n",
    "Por otro lado, ambos intervalos de confianza contienen la proporción real, por lo que podemos decir que con un 95% o 99% de confianza, la proporción real de hombres está dentro del rango (0.23,0.49) o (0.19,0.53), respectivamente."
   ]
  },
  {
   "cell_type": "markdown",
   "id": "a93a9b74-ac4f-46a5-9a6f-939bf9a495b4",
   "metadata": {},
   "source": [
    "3. Considerando el dataset como una muestra, verifica si el género (male=1 significa ‘hombre”) influye sobre el sueldo “earn” de las personas. Explica y justifica tu procedimiento."
   ]
  },
  {
   "cell_type": "code",
   "execution_count": 47,
   "id": "81a792d9-5e98-4f77-8a9f-140984fcacef",
   "metadata": {},
   "outputs": [
    {
     "name": "stdout",
     "output_type": "stream",
     "text": [
      "Media de ingresos hombres:  30105.17925925926\n",
      "Media de ingresos mujeres:  15847.935144609992\n",
      "valor p de la prueba de hipótesis 2.7373648004575493e-30\n"
     ]
    }
   ],
   "source": [
    "#Extraemos los datos\n",
    "hombres=data[data['male']==1]['earn']\n",
    "mujeres=data[data['male']==0]['earn']\n",
    "\n",
    "#Hacemos la prueba de hipotesis para comparar medias, osea el t test de dos muestras\n",
    "t_test,p_value=stats.ttest_ind(hombres,mujeres,equal_var=False)\n",
    "\n",
    "#Calculamos el promedio real de los ingresos de las poblaciones\n",
    "mean_hombres=np.mean(hombres)\n",
    "mean_mujeres=np.mean(mujeres)\n",
    "\n",
    "print ('Media de ingresos hombres: ',mean_hombres)\n",
    "print ('Media de ingresos mujeres: ',mean_mujeres)\n",
    "print ('valor p de la prueba de hipótesis',p_value)"
   ]
  },
  {
   "cell_type": "markdown",
   "id": "faf67686-eff0-4cc3-9da5-ab58a92a6100",
   "metadata": {},
   "source": [
    "Utilizando un nivel de confianza del 95% ($\\alpha$=0.05) podemos rechazar la hipótesis nula por lo que se concluye que el género influye significativamente en los ingresos de la persona."
   ]
  },
  {
   "cell_type": "code",
   "execution_count": 50,
   "id": "3164d542-d79e-4b13-90e4-6d2d1f8f629e",
   "metadata": {},
   "outputs": [
    {
     "data": {
      "text/plain": [
       "Text(0, 0.5, 'Ingresos')"
      ]
     },
     "execution_count": 50,
     "metadata": {},
     "output_type": "execute_result"
    },
    {
     "data": {
      "image/png": "[encoded data removed]",
      "text/plain": [
       "<Figure size 640x480 with 1 Axes>"
      ]
     },
     "metadata": {},
     "output_type": "display_data"
    }
   ],
   "source": [
    "#Finalmente hacemos un boxplot para visualizar las diferencias\n",
    "\n",
    "sns.boxplot(x=data['male'],y=data['earn'])\n",
    "plt.xticks([0,1],['Mujeres','Hombres'])\n",
    "plt.title('Comparación de ingresos por género')\n",
    "plt.xlabel('Género')\n",
    "plt.ylabel('Ingresos')"
   ]
  },
  {
   "cell_type": "markdown",
   "id": "9650adfa-a0ad-4e71-8b14-b94d08c8e9b2",
   "metadata": {},
   "source": [
    "Realizaré el mismo procedimiento pero con los datos sin outliers:"
   ]
  },
  {
   "cell_type": "code",
   "execution_count": 52,
   "id": "558d039b-7b7c-479d-a21f-d1b21e8e1007",
   "metadata": {},
   "outputs": [
    {
     "name": "stdout",
     "output_type": "stream",
     "text": [
      "Media de ingresos hombres:  22968.326666666668\n",
      "Media de ingresos mujeres:  14461.912186379928\n",
      "valor p de la prueba de hipótesis 8.219244907082697e-37\n"
     ]
    }
   ],
   "source": [
    "#Extraemos los datos\n",
    "hombres=data_wo_out[data_wo_out['male']==1]['earn']\n",
    "mujeres=data_wo_out[data_wo_out['male']==0]['earn']\n",
    "\n",
    "#Hacemos la prueba de hipotesis para comparar medias, osea el t test de dos muestras\n",
    "t_test,p_value=stats.ttest_ind(hombres,mujeres,equal_var=False)\n",
    "\n",
    "#Calculamos el promedio real de los ingresos de las poblaciones\n",
    "mean_hombres=np.mean(hombres)\n",
    "mean_mujeres=np.mean(mujeres)\n",
    "\n",
    "print ('Media de ingresos hombres: ',mean_hombres)\n",
    "print ('Media de ingresos mujeres: ',mean_mujeres)\n",
    "print ('valor p de la prueba de hipótesis',p_value)"
   ]
  },
  {
   "cell_type": "code",
   "execution_count": 53,
   "id": "e9b3fbb0-a32b-4bbe-b22b-dfe6d78f4fce",
   "metadata": {},
   "outputs": [
    {
     "data": {
      "text/plain": [
       "Text(0, 0.5, 'Ingresos')"
      ]
     },
     "execution_count": 53,
     "metadata": {},
     "output_type": "execute_result"
    },
    {
     "data": {
      "image/png": "[encoded data removed]",
      "text/plain": [
       "<Figure size 640x480 with 1 Axes>"
      ]
     },
     "metadata": {},
     "output_type": "display_data"
    }
   ],
   "source": [
    "sns.boxplot(x=data_wo_out['male'],y=data_wo_out['earn'])\n",
    "plt.xticks([0,1],['Mujeres','Hombres'])\n",
    "plt.title('Comparación de ingresos por género')\n",
    "plt.xlabel('Género')\n",
    "plt.ylabel('Ingresos')"
   ]
  },
  {
   "cell_type": "markdown",
   "id": "6355f5bc-6dcf-4d17-a1bf-e6d8d2867938",
   "metadata": {},
   "source": [
    "Utilizando el mismo nivel de confianza del 95% llegamos a la misma conclusión de que rechazamos la hipótesis nula y concluimos que el género si inlfuye en los ingresos de la persona. En este caso, no hay diferencia de los resultados utilizando una muestra con valores extremos y una muestra sin valores atípicos."
   ]
  },
  {
   "cell_type": "code",
   "execution_count": null,
   "id": "29cac883-543e-4fd9-ac2b-e3b7b43c7e03",
   "metadata": {},
   "outputs": [],
   "source": []
  }
 ],
 "metadata": {
  "kernelspec": {
   "display_name": "Python 3 (ipykernel)",
   "language": "python",
   "name": "python3"
  },
  "language_info": {
   "codemirror_mode": {
    "name": "ipython",
    "version": 3
   },
   "file_extension": ".py",
   "mimetype": "text/x-python",
   "name": "python",
   "nbconvert_exporter": "python",
   "pygments_lexer": "ipython3",
   "version": "3.10.12"
  }
 },
 "nbformat": 4,
 "nbformat_minor": 5
}
