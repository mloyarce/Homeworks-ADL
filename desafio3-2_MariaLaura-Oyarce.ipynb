{
 "cells": [
  {
   "cell_type": "markdown",
   "id": "8b434552-a698-48bc-929a-fb3feb5c2ebf",
   "metadata": {},
   "source": [
    "## Desafío - Estadística descriptiva y probabilidades (Parte II) - Maria Laura Oyarce"
   ]
  },
  {
   "cell_type": "markdown",
   "id": "0718da9b-e0e2-4083-9547-9f16efdc8ab7",
   "metadata": {},
   "source": [
    "#### Una casa de apuestas quiere perfeccionar sus modelos de estimaciones de factores de apuestas, por lo que quiere hacer una revisión sobre los resultados del Mundial 2014."
   ]
  },
  {
   "cell_type": "code",
   "execution_count": 1,
   "id": "8e7022c1-327b-4cfc-b40c-fa76efd45426",
   "metadata": {},
   "outputs": [],
   "source": [
    "#Importamos pandas para leer el csv\n",
    "import pandas as pd\n",
    "#Cargamos los datos\n",
    "data = pd.read_csv('worldcup2014.csv')"
   ]
  },
  {
   "cell_type": "code",
   "execution_count": 2,
   "id": "eb9965d8-f60d-4a6f-bcea-d4bf27ec50c9",
   "metadata": {},
   "outputs": [
    {
     "data": {
      "text/html": [
       "<div>\n",
       "<style scoped>\n",
       "    .dataframe tbody tr th:only-of-type {\n",
       "        vertical-align: middle;\n",
       "    }\n",
       "\n",
       "    .dataframe tbody tr th {\n",
       "        vertical-align: top;\n",
       "    }\n",
       "\n",
       "    .dataframe thead th {\n",
       "        text-align: right;\n",
       "    }\n",
       "</style>\n",
       "<table border=\"1\" class=\"dataframe\">\n",
       "  <thead>\n",
       "    <tr style=\"text-align: right;\">\n",
       "      <th></th>\n",
       "      <th>team</th>\n",
       "      <th>continent</th>\n",
       "      <th>group</th>\n",
       "      <th>group_pos</th>\n",
       "      <th>cantidad_juegos</th>\n",
       "      <th>juegos_ganados</th>\n",
       "      <th>juegos_empatados</th>\n",
       "      <th>juegos_perdidos</th>\n",
       "      <th>goles_favor</th>\n",
       "      <th>goles_contra</th>\n",
       "      <th>goles_diferencia</th>\n",
       "      <th>puntos</th>\n",
       "      <th>clasificado</th>\n",
       "    </tr>\n",
       "  </thead>\n",
       "  <tbody>\n",
       "    <tr>\n",
       "      <th>0</th>\n",
       "      <td>Brazil</td>\n",
       "      <td>southamerica</td>\n",
       "      <td>A</td>\n",
       "      <td>1</td>\n",
       "      <td>3</td>\n",
       "      <td>2</td>\n",
       "      <td>1</td>\n",
       "      <td>0</td>\n",
       "      <td>7</td>\n",
       "      <td>2</td>\n",
       "      <td>5</td>\n",
       "      <td>7</td>\n",
       "      <td>1</td>\n",
       "    </tr>\n",
       "    <tr>\n",
       "      <th>1</th>\n",
       "      <td>Mexico</td>\n",
       "      <td>northamerica</td>\n",
       "      <td>A</td>\n",
       "      <td>2</td>\n",
       "      <td>3</td>\n",
       "      <td>2</td>\n",
       "      <td>1</td>\n",
       "      <td>0</td>\n",
       "      <td>4</td>\n",
       "      <td>1</td>\n",
       "      <td>3</td>\n",
       "      <td>7</td>\n",
       "      <td>1</td>\n",
       "    </tr>\n",
       "    <tr>\n",
       "      <th>2</th>\n",
       "      <td>Croatia</td>\n",
       "      <td>europe</td>\n",
       "      <td>A</td>\n",
       "      <td>3</td>\n",
       "      <td>3</td>\n",
       "      <td>1</td>\n",
       "      <td>0</td>\n",
       "      <td>2</td>\n",
       "      <td>6</td>\n",
       "      <td>6</td>\n",
       "      <td>0</td>\n",
       "      <td>3</td>\n",
       "      <td>0</td>\n",
       "    </tr>\n",
       "    <tr>\n",
       "      <th>3</th>\n",
       "      <td>Cameroon</td>\n",
       "      <td>africa</td>\n",
       "      <td>A</td>\n",
       "      <td>4</td>\n",
       "      <td>3</td>\n",
       "      <td>0</td>\n",
       "      <td>0</td>\n",
       "      <td>3</td>\n",
       "      <td>1</td>\n",
       "      <td>9</td>\n",
       "      <td>−8</td>\n",
       "      <td>0</td>\n",
       "      <td>0</td>\n",
       "    </tr>\n",
       "    <tr>\n",
       "      <th>4</th>\n",
       "      <td>Netherlands</td>\n",
       "      <td>europe</td>\n",
       "      <td>B</td>\n",
       "      <td>1</td>\n",
       "      <td>3</td>\n",
       "      <td>3</td>\n",
       "      <td>0</td>\n",
       "      <td>0</td>\n",
       "      <td>10</td>\n",
       "      <td>3</td>\n",
       "      <td>7</td>\n",
       "      <td>9</td>\n",
       "      <td>1</td>\n",
       "    </tr>\n",
       "  </tbody>\n",
       "</table>\n",
       "</div>"
      ],
      "text/plain": [
       "          team     continent group  group_pos  cantidad_juegos  \\\n",
       "0       Brazil  southamerica     A          1                3   \n",
       "1       Mexico  northamerica     A          2                3   \n",
       "2      Croatia        europe     A          3                3   \n",
       "3     Cameroon        africa     A          4                3   \n",
       "4  Netherlands        europe     B          1                3   \n",
       "\n",
       "   juegos_ganados  juegos_empatados  juegos_perdidos  goles_favor  \\\n",
       "0               2                 1                0            7   \n",
       "1               2                 1                0            4   \n",
       "2               1                 0                2            6   \n",
       "3               0                 0                3            1   \n",
       "4               3                 0                0           10   \n",
       "\n",
       "   goles_contra goles_diferencia  puntos  clasificado  \n",
       "0             2                5       7            1  \n",
       "1             1                3       7            1  \n",
       "2             6                0       3            0  \n",
       "3             9               −8       0            0  \n",
       "4             3                7       9            1  "
      ]
     },
     "execution_count": 2,
     "metadata": {},
     "output_type": "execute_result"
    }
   ],
   "source": [
    "#Chequeamos la estructura de los datos\n",
    "data.head()"
   ]
  },
  {
   "cell_type": "markdown",
   "id": "816f6860-1a35-4f81-86d4-3f8453568588",
   "metadata": {},
   "source": [
    "#### 1. Considerando el experimento de seleccionar un país participante al azar, se pide determinar las probabilidades de los siguientes sucesos:"
   ]
  },
  {
   "cell_type": "code",
   "execution_count": 3,
   "id": "6562a10a-8601-4adc-8bdb-7fdcbd18aea8",
   "metadata": {},
   "outputs": [],
   "source": [
    "#Definiremos una función que calcule probabilidades, para hacer el trabajo más fácil\n",
    "total=len(data)\n",
    "def prob(condicion):\n",
    "    \"\"\"\n",
    "    Calcula la probabilidad de un evento dado el número de casos favorables.\n",
    "    \"\"\"\n",
    "    true_cases=condicion.sum()\n",
    "    return true_cases/total, round(true_cases/total *100,1)"
   ]
  },
  {
   "cell_type": "markdown",
   "id": "a7ab6989-8584-4ecf-8063-1974f6c5a807",
   "metadata": {},
   "source": [
    "En esta tarea, al definir las condiciones (como se muestra mas abajo), la función me entrega valores booleanos (True o False). Al calcular los true cases en la función que definí, utilizo la función .sum(), que suma todos los valores True, ya que python trata cada True como 1 y los False como 0. Esto es equivalente al metodo df['columna1'].value_counts()['Valor1'] que nos enseñaron en clases y que también aparece en la guía."
   ]
  },
  {
   "cell_type": "markdown",
   "id": "5a2fff1c-aeb0-471e-8e89-3efff3474503",
   "metadata": {},
   "source": [
    "a. pertenecer a África"
   ]
  },
  {
   "cell_type": "code",
   "execution_count": 4,
   "id": "aa345452-0975-48d9-a284-53abb25b93ae",
   "metadata": {},
   "outputs": [
    {
     "name": "stdout",
     "output_type": "stream",
     "text": [
      "0     False\n",
      "1     False\n",
      "2     False\n",
      "3      True\n",
      "4     False\n",
      "5     False\n",
      "6     False\n",
      "7     False\n",
      "8     False\n",
      "9     False\n",
      "10     True\n",
      "11    False\n",
      "12    False\n",
      "13    False\n",
      "14    False\n",
      "15    False\n",
      "16    False\n",
      "17    False\n",
      "18    False\n",
      "19    False\n",
      "20    False\n",
      "21     True\n",
      "22    False\n",
      "23    False\n",
      "24    False\n",
      "25    False\n",
      "26    False\n",
      "27     True\n",
      "28    False\n",
      "29     True\n",
      "30    False\n",
      "31    False\n",
      "Name: continent, dtype: bool\n"
     ]
    }
   ],
   "source": [
    "#Primero definimos las condiciones\n",
    "africa=data['continent']=='africa'\n",
    "print (africa)"
   ]
  },
  {
   "cell_type": "code",
   "execution_count": 5,
   "id": "219b1b8d-b280-4dee-9139-3484e9376be4",
   "metadata": {},
   "outputs": [
    {
     "name": "stdout",
     "output_type": "stream",
     "text": [
      "La probabilidad de que un equipo sea de África es 0.15625 o de un 15.6 %\n"
     ]
    }
   ],
   "source": [
    "print ('La probabilidad de que un equipo sea de África es',prob(africa)[0],'o de un',prob(africa)[1],'%')\n",
    "#Como mencioné antes, el conteo se realiza dentro de la función que definí al principio"
   ]
  },
  {
   "cell_type": "markdown",
   "id": "2cfefb20-717e-41e6-8f0a-af36840fb061",
   "metadata": {},
   "source": [
    "b. pertenecer a Asia"
   ]
  },
  {
   "cell_type": "code",
   "execution_count": 6,
   "id": "4afed0d2-02bc-4b8d-aa97-bdcb4ad8476c",
   "metadata": {},
   "outputs": [
    {
     "name": "stdout",
     "output_type": "stream",
     "text": [
      "La probabilidad de que un equipo sea de Asia es 0.125 o de un 12.5 %\n"
     ]
    }
   ],
   "source": [
    "asia=data['continent']=='asia'\n",
    "print ('La probabilidad de que un equipo sea de Asia es',prob(asia)[0],'o de un',prob(asia)[1],'%')"
   ]
  },
  {
   "cell_type": "markdown",
   "id": "4655ce48-e94f-486d-b213-8904f200f46d",
   "metadata": {},
   "source": [
    "c. pertenecer a Europa"
   ]
  },
  {
   "cell_type": "code",
   "execution_count": 7,
   "id": "0876c3a6-caba-4232-8b8a-323196d30cad",
   "metadata": {},
   "outputs": [
    {
     "name": "stdout",
     "output_type": "stream",
     "text": [
      "La probabilidad de que un equipo sea de Europa es 0.40625 o de un 40.6 %\n"
     ]
    }
   ],
   "source": [
    "europe=data['continent']=='europe'\n",
    "print ('La probabilidad de que un equipo sea de Europa es',prob(europe)[0],'o de un',prob(europe)[1],'%')"
   ]
  },
  {
   "cell_type": "markdown",
   "id": "2e007d67-8250-4102-8f60-b5be4ed3391b",
   "metadata": {},
   "source": [
    "d. pertenecer a Norteamérica"
   ]
  },
  {
   "cell_type": "code",
   "execution_count": 8,
   "id": "1009ffa3-4cda-4d63-8e68-10492e79d7c1",
   "metadata": {},
   "outputs": [
    {
     "name": "stdout",
     "output_type": "stream",
     "text": [
      "La probabilidad de que un equipo sea de Norteamérica es 0.125 o de un 12.5 %\n"
     ]
    }
   ],
   "source": [
    "northamerica=data['continent']=='northamerica'\n",
    "print ('La probabilidad de que un equipo sea de Norteamérica es',prob(northamerica)[0],'o de un',prob(northamerica)[1],'%')"
   ]
  },
  {
   "cell_type": "markdown",
   "id": "1371adc8-3989-42d8-8ef5-648f6720cb48",
   "metadata": {},
   "source": [
    "e. pertenecer a Sudamérica"
   ]
  },
  {
   "cell_type": "code",
   "execution_count": 9,
   "id": "3988738a-5608-4127-a73a-63be4f1464ae",
   "metadata": {},
   "outputs": [
    {
     "name": "stdout",
     "output_type": "stream",
     "text": [
      "La probabilidad de que un equipo sea de Sudamérica es 0.1875 o de un 18.8 %\n"
     ]
    }
   ],
   "source": [
    "southamerica=data['continent']=='southamerica'\n",
    "print ('La probabilidad de que un equipo sea de Sudamérica es',prob(southamerica)[0],'o de un',prob(southamerica)[1],'%')"
   ]
  },
  {
   "cell_type": "markdown",
   "id": "af72ad32-eddc-48e6-9fa3-b4ba9b52bb34",
   "metadata": {},
   "source": [
    "f. clasificar a segunda ronda"
   ]
  },
  {
   "cell_type": "code",
   "execution_count": 10,
   "id": "9fe76d40-a190-42be-93b6-dc8009cf6e22",
   "metadata": {},
   "outputs": [
    {
     "name": "stdout",
     "output_type": "stream",
     "text": [
      "La probabilidad de que un equipo clasifique a 2da ronda es 0.5 o de un 50.0 %\n"
     ]
    }
   ],
   "source": [
    "ronda2=data['clasificado']==1\n",
    "print ('La probabilidad de que un equipo clasifique a 2da ronda es',prob(ronda2)[0],'o de un',prob(ronda2)[1],'%')"
   ]
  },
  {
   "cell_type": "markdown",
   "id": "8472ca3e-054c-4f16-97d3-5effbff7552b",
   "metadata": {},
   "source": [
    "g. ganar al menos un partido"
   ]
  },
  {
   "cell_type": "code",
   "execution_count": 11,
   "id": "d5377d6d-8209-4034-91cc-43e649464743",
   "metadata": {},
   "outputs": [
    {
     "name": "stdout",
     "output_type": "stream",
     "text": [
      "La probabilidad de que un equipo gane al menos 1 partido es 0.71875 o de un 71.9 %\n"
     ]
    }
   ],
   "source": [
    "win1=data['juegos_ganados']>=1\n",
    "print ('La probabilidad de que un equipo gane al menos 1 partido es',prob(win1)[0],'o de un',prob(win1)[1],'%')"
   ]
  },
  {
   "cell_type": "markdown",
   "id": "531a20f1-b64a-470b-b5dd-4abf55620cf2",
   "metadata": {},
   "source": [
    "h. pertenecer a África y clasificar a segunda ronda"
   ]
  },
  {
   "cell_type": "code",
   "execution_count": 12,
   "id": "34b86157-e077-450b-b6b5-e668aece48be",
   "metadata": {},
   "outputs": [
    {
     "name": "stdout",
     "output_type": "stream",
     "text": [
      "La probabilidad de que un equipo pertenezca a África y clasifique a 2da ronda es 0.0625 o de un 6.2 %\n"
     ]
    }
   ],
   "source": [
    "#Definimos condiciones de intersección\n",
    "africa_ronda2=(africa & ronda2).sum()\n",
    "print ('La probabilidad de que un equipo pertenezca a África y clasifique a 2da ronda es',prob(africa_ronda2)[0],'o de un',prob(africa_ronda2)[1],'%')"
   ]
  },
  {
   "cell_type": "markdown",
   "id": "90a59112-25fd-45df-9e8e-57a9abdac011",
   "metadata": {},
   "source": [
    "i. pertenecer a Europa y clasificar a segunda ronda"
   ]
  },
  {
   "cell_type": "code",
   "execution_count": 13,
   "id": "4b47f585-b3c1-4316-b32d-47a5a07b7e00",
   "metadata": {},
   "outputs": [
    {
     "name": "stdout",
     "output_type": "stream",
     "text": [
      "La probabilidad de que un equipo pertenezca a Europa y clasifique a 2da ronda es 0.1875 o de un 18.8 %\n"
     ]
    }
   ],
   "source": [
    "europe_ronda2=(europe & ronda2).sum()\n",
    "print ('La probabilidad de que un equipo pertenezca a Europa y clasifique a 2da ronda es',prob(europe_ronda2)[0],'o de un',prob(europe_ronda2)[1],'%')"
   ]
  },
  {
   "cell_type": "markdown",
   "id": "d875bf3f-fd7b-4d09-ba8b-2e987376691c",
   "metadata": {},
   "source": [
    "j. pertenecer a Asia y clasificar a segunda ronda"
   ]
  },
  {
   "cell_type": "code",
   "execution_count": 14,
   "id": "8711da0f-b6a3-46da-95b2-5c60d2afa0c6",
   "metadata": {},
   "outputs": [
    {
     "name": "stdout",
     "output_type": "stream",
     "text": [
      "La probabilidad de que un equipo pertenezca a Asia y clasifique a 2da ronda es 0.0 o de un 0.0 %\n"
     ]
    }
   ],
   "source": [
    "asia_ronda2=(asia & ronda2).sum()\n",
    "print ('La probabilidad de que un equipo pertenezca a Asia y clasifique a 2da ronda es',prob(asia_ronda2)[0],'o de un',prob(asia_ronda2)[1],'%')"
   ]
  },
  {
   "cell_type": "markdown",
   "id": "3ffeb21e-0a6e-4347-a8cb-585350d1fe6c",
   "metadata": {},
   "source": [
    "k. pertenecer a Sudamérica y clasificar a segunda ronda"
   ]
  },
  {
   "cell_type": "code",
   "execution_count": 15,
   "id": "4e6e920e-a641-497f-aa40-f16db3f25e2f",
   "metadata": {},
   "outputs": [
    {
     "name": "stdout",
     "output_type": "stream",
     "text": [
      "La probabilidad de que un equipo pertenezca a Sudamérica y clasifique a 2da ronda es 0.15625 o de un 15.6 %\n"
     ]
    }
   ],
   "source": [
    "sudam_ronda2=(southamerica & ronda2).sum()\n",
    "print ('La probabilidad de que un equipo pertenezca a Sudamérica y clasifique a 2da ronda es',prob(sudam_ronda2)[0],'o de un',prob(sudam_ronda2)[1],'%')"
   ]
  },
  {
   "cell_type": "markdown",
   "id": "6132ae5a-c3f0-4bb5-98c3-1bb4ba7d009d",
   "metadata": {},
   "source": [
    "l. pertenecer a Norteamérica y clasificar a segunda ronda"
   ]
  },
  {
   "cell_type": "code",
   "execution_count": 16,
   "id": "dfd17127-594c-4092-84fe-35113e9a06dd",
   "metadata": {},
   "outputs": [
    {
     "name": "stdout",
     "output_type": "stream",
     "text": [
      "La probabilidad de que un equipo pertenezca a Norteamérica y clasifique a 2da ronda es 0.09375 o de un 9.4 %\n"
     ]
    }
   ],
   "source": [
    "northam_ronda2=(northamerica & ronda2).sum()\n",
    "print ('La probabilidad de que un equipo pertenezca a Norteamérica y clasifique a 2da ronda es',prob(northam_ronda2)[0],'o de un',prob(northam_ronda2)[1],'%')"
   ]
  },
  {
   "cell_type": "markdown",
   "id": "7277cb17-4a0b-4462-ba27-bbbdcb981690",
   "metadata": {},
   "source": [
    "m. pertenecer a África o clasificar a segunda ronda"
   ]
  },
  {
   "cell_type": "code",
   "execution_count": 17,
   "id": "1a16839d-d054-438d-b2de-28f09ec9eae9",
   "metadata": {},
   "outputs": [
    {
     "name": "stdout",
     "output_type": "stream",
     "text": [
      "La probabilidad de que un equipo pertenezca a África o clasifique a 2da ronda es 0.59375 o de un 59.4 %\n"
     ]
    }
   ],
   "source": [
    "#Definimos condiciones de unión\n",
    "africa_ronda2_v2=(africa | ronda2).sum()\n",
    "print ('La probabilidad de que un equipo pertenezca a África o clasifique a 2da ronda es',prob(africa_ronda2_v2)[0],'o de un',prob(africa_ronda2_v2)[1],'%')"
   ]
  },
  {
   "cell_type": "markdown",
   "id": "18624840-f4dd-409d-bd50-bf61b6d4f67e",
   "metadata": {},
   "source": [
    "n. pertenecer a Europa o clasificar a segunda ronda"
   ]
  },
  {
   "cell_type": "code",
   "execution_count": 18,
   "id": "6c644ceb-baef-4127-bcac-dd14463d740a",
   "metadata": {},
   "outputs": [
    {
     "name": "stdout",
     "output_type": "stream",
     "text": [
      "La probabilidad de que un equipo pertenezca a Europa o clasifique a 2da ronda es 0.71875 o de un 71.9\n"
     ]
    }
   ],
   "source": [
    "europe_ronda2_v2=(europe | ronda2).sum()\n",
    "print ('La probabilidad de que un equipo pertenezca a Europa o clasifique a 2da ronda es',prob(europe_ronda2_v2)[0],'o de un',prob(europe_ronda2_v2)[1])"
   ]
  },
  {
   "cell_type": "markdown",
   "id": "623959e3-7813-473d-b999-9a407aba5f1b",
   "metadata": {},
   "source": [
    "o. pertenecer a Asia o clasificar a segunda ronda"
   ]
  },
  {
   "cell_type": "code",
   "execution_count": 19,
   "id": "f3b94a15-d123-4259-815e-e401afb50ccb",
   "metadata": {},
   "outputs": [
    {
     "name": "stdout",
     "output_type": "stream",
     "text": [
      "La probabilidad de que un equipo pertenezca a Asia o clasifique a 2da ronda es 0.625 o de un 62.5 %\n"
     ]
    }
   ],
   "source": [
    "asia_ronda2_v2=(asia | ronda2).sum()\n",
    "print ('La probabilidad de que un equipo pertenezca a Asia o clasifique a 2da ronda es',prob(asia_ronda2_v2)[0],'o de un',prob(asia_ronda2_v2)[1],'%')"
   ]
  },
  {
   "cell_type": "markdown",
   "id": "90c1c09d-6693-4132-bcb9-3ef6ec39d118",
   "metadata": {},
   "source": [
    "p. pertenecer a Sudamérica o clasificar a segunda ronda"
   ]
  },
  {
   "cell_type": "code",
   "execution_count": 20,
   "id": "06bca57d-e762-4c5a-b28c-d1ae0410e493",
   "metadata": {},
   "outputs": [
    {
     "name": "stdout",
     "output_type": "stream",
     "text": [
      "La probabilidad de que un equipo pertenezca a Sudamérica o clasifique a 2da ronda es 0.53125 o de un 53.1 %\n"
     ]
    }
   ],
   "source": [
    "sudam_ronda2_v2=(southamerica | ronda2).sum()\n",
    "print ('La probabilidad de que un equipo pertenezca a Sudamérica o clasifique a 2da ronda es',prob(sudam_ronda2_v2)[0],'o de un',prob(sudam_ronda2_v2)[1],'%')"
   ]
  },
  {
   "cell_type": "markdown",
   "id": "3e11266e-e3c4-4228-a455-28a167c35e55",
   "metadata": {},
   "source": [
    "q. pertenecer a Norteamérica o clasificar a segunda ronda"
   ]
  },
  {
   "cell_type": "code",
   "execution_count": 21,
   "id": "460c4b6c-ca34-4100-a3e4-77305753d059",
   "metadata": {},
   "outputs": [
    {
     "name": "stdout",
     "output_type": "stream",
     "text": [
      "La probabilidad de que un equipo pertenezca a Norteamérica o clasifique a 2da ronda es 0.53125 o de un 53.1 %\n"
     ]
    }
   ],
   "source": [
    "northam_ronda2_v2=(northamerica | ronda2).sum()\n",
    "print ('La probabilidad de que un equipo pertenezca a Norteamérica o clasifique a 2da ronda es',prob(northam_ronda2_v2)[0],'o de un',prob(northam_ronda2_v2)[1],'%')"
   ]
  },
  {
   "cell_type": "markdown",
   "id": "50b6c6db-840c-4325-9d14-7ba403b94e22",
   "metadata": {},
   "source": [
    "r. pertenecer a África y haber ganado al menos un partido"
   ]
  },
  {
   "cell_type": "code",
   "execution_count": 22,
   "id": "6601f45e-a59b-48a3-9875-07f81d175b75",
   "metadata": {},
   "outputs": [
    {
     "name": "stdout",
     "output_type": "stream",
     "text": [
      "La probabilidad de que un equipo sea de África y haya ganado al menos un partido es 0.09375 o es de 9.4 %\n"
     ]
    }
   ],
   "source": [
    "africa_win1=(africa & win1).sum()\n",
    "print ('La probabilidad de que un equipo sea de África y haya ganado al menos un partido es',prob(africa_win1)[0],'o es de',prob(africa_win1)[1],'%')"
   ]
  },
  {
   "cell_type": "markdown",
   "id": "856e021f-ba07-4617-bafc-fe5118994fe5",
   "metadata": {},
   "source": [
    "s. pertenecer a Europa y haber ganado al menos un partido"
   ]
  },
  {
   "cell_type": "code",
   "execution_count": 23,
   "id": "fb24954b-41f7-40c5-94bd-c1bc9382dd2d",
   "metadata": {},
   "outputs": [
    {
     "name": "stdout",
     "output_type": "stream",
     "text": [
      "La probabilidad de que un equipo sea de Europa y haya ganado al menos un partido es 0.34375 o es de 34.4 %\n"
     ]
    }
   ],
   "source": [
    "europe_win1=(europe & win1).sum()\n",
    "print ('La probabilidad de que un equipo sea de Europa y haya ganado al menos un partido es',prob(europe_win1)[0],'o es de',prob(europe_win1)[1],'%')"
   ]
  },
  {
   "cell_type": "markdown",
   "id": "a4545ba0-3ea4-41e8-8a21-187c454bc265",
   "metadata": {},
   "source": [
    "t. pertenecer a Asia y haber ganado al menos un partido"
   ]
  },
  {
   "cell_type": "code",
   "execution_count": 24,
   "id": "f5129d03-11ad-4eb0-b3bc-859ac8e91076",
   "metadata": {},
   "outputs": [
    {
     "name": "stdout",
     "output_type": "stream",
     "text": [
      "La probabilidad de que un equipo sea de Asia y haya ganado al menos un partido es 0.0 o es de 0.0\n"
     ]
    }
   ],
   "source": [
    "asia_win1=(asia & win1).sum()\n",
    "print ('La probabilidad de que un equipo sea de Asia y haya ganado al menos un partido es',prob(asia_win1)[0],'o es de',prob(asia_win1)[1])"
   ]
  },
  {
   "cell_type": "markdown",
   "id": "ab8f785b-7461-4326-a24c-0d6f19f102e3",
   "metadata": {},
   "source": [
    "u. pertenecer a Sudamérica y haber ganado al menos un partido"
   ]
  },
  {
   "cell_type": "code",
   "execution_count": 25,
   "id": "0b785f9e-3107-46f3-8f27-fab9d0c9a688",
   "metadata": {},
   "outputs": [
    {
     "name": "stdout",
     "output_type": "stream",
     "text": [
      "La probabilidad de que un equipo sea de Sudamérica y haya ganado al menos un partido es 0.1875 o es de 18.8\n"
     ]
    }
   ],
   "source": [
    "sudam_win1=(southamerica & win1).sum()\n",
    "print ('La probabilidad de que un equipo sea de Sudamérica y haya ganado al menos un partido es',prob(sudam_win1)[0],'o es de',prob(sudam_win1)[1])"
   ]
  },
  {
   "cell_type": "markdown",
   "id": "e0e46196-2c02-40f8-b957-3cc265a367ba",
   "metadata": {},
   "source": [
    "v. pertenecer a Norteamérica y haber ganado al menos un partido"
   ]
  },
  {
   "cell_type": "code",
   "execution_count": 26,
   "id": "0bbf5569-7100-45b5-8bcc-4f5622c68670",
   "metadata": {},
   "outputs": [
    {
     "name": "stdout",
     "output_type": "stream",
     "text": [
      "La probabilidad de que un equipo sea de Norteamérica y haya ganado al menos un partido es 0.09375 o es de 9.4\n"
     ]
    }
   ],
   "source": [
    "northam_win1=(northamerica & win1).sum()\n",
    "print ('La probabilidad de que un equipo sea de Norteamérica y haya ganado al menos un partido es',prob(northam_win1)[0],'o es de',prob(northam_win1)[1])"
   ]
  },
  {
   "cell_type": "markdown",
   "id": "0b5591f6-eb4b-45c8-b37c-549db95a9a40",
   "metadata": {},
   "source": [
    "w. haber ganado al menos un partido y clasificar a segunda ronda"
   ]
  },
  {
   "cell_type": "code",
   "execution_count": 27,
   "id": "f986ba3f-6956-4abf-9448-45adb126193f",
   "metadata": {},
   "outputs": [
    {
     "name": "stdout",
     "output_type": "stream",
     "text": [
      "La probabilidad de haber ganado al menos 1 partido y clasificar a 2da ronda es 0.5 o es de 50.0 %\n"
     ]
    }
   ],
   "source": [
    "win1_ronda2=(win1 & ronda2).sum()\n",
    "print ('La probabilidad de haber ganado al menos 1 partido y clasificar a 2da ronda es',prob(win1_ronda2)[0],'o es de',prob(win1_ronda2)[1],'%')"
   ]
  },
  {
   "cell_type": "markdown",
   "id": "2dd8020e-b8f3-47e3-ab0a-f51a1cd09e68",
   "metadata": {},
   "source": [
    "#### 2. A partir de las probabilidades anteriores, y sin realizar conteos, calcular las siguientes probabilidades:"
   ]
  },
  {
   "cell_type": "code",
   "execution_count": 28,
   "id": "fa041897-e771-49ad-8c8f-b2e748e06458",
   "metadata": {},
   "outputs": [],
   "source": [
    "#Definimos una nueva función, pero ahora dejando el total del casos como una variable\n",
    "def prob2(condicion,total):\n",
    "    \"\"\"\n",
    "    Calcula la probabilidad de un evento dado el número de casos favorables y el total.\n",
    "    \"\"\"\n",
    "    true_cases=condicion.sum()\n",
    "    return true_cases/total, round(true_cases/total *100,1)"
   ]
  },
  {
   "cell_type": "markdown",
   "id": "8d31ab32-f888-4857-b5b0-3e4bbae085c7",
   "metadata": {},
   "source": [
    "a.pertenecer a Europa, si se sabe que clasificó"
   ]
  },
  {
   "cell_type": "code",
   "execution_count": 29,
   "id": "1f7365d9-c3d7-4c3c-b593-a3e35d65ff0d",
   "metadata": {},
   "outputs": [
    {
     "name": "stdout",
     "output_type": "stream",
     "text": [
      "La probabilidad de pertenecer a Europa si se sabe que clasificó es 0.375 o es de 37.5 %\n"
     ]
    }
   ],
   "source": [
    "#Definimos las condiciones de intersección, ahora considerando que el total corresponderá a los casos favorables\n",
    "#de la segunda condición\n",
    "europe_ronda2_v3=prob2(europe & ronda2,ronda2.sum())\n",
    "print ('La probabilidad de pertenecer a Europa si se sabe que clasificó es',europe_ronda2_v3[0],'o es de',europe_ronda2_v3[1],'%')"
   ]
  },
  {
   "cell_type": "markdown",
   "id": "dba0fbe5-287c-40d3-901d-b52ad9eb04f5",
   "metadata": {},
   "source": [
    "b.pertenecer a Sudamérica, si se sabe que clasificó"
   ]
  },
  {
   "cell_type": "code",
   "execution_count": 30,
   "id": "a0695632-5a3e-48b0-811a-218aaecf5646",
   "metadata": {},
   "outputs": [
    {
     "name": "stdout",
     "output_type": "stream",
     "text": [
      "La probabilidad de pertenecer a Sudamérica si se sabe que clasificó es 0.3125 o es de 31.2 %\n"
     ]
    }
   ],
   "source": [
    "sudam_ronda2_v3=prob2(southamerica & ronda2,ronda2.sum())\n",
    "print ('La probabilidad de pertenecer a Sudamérica si se sabe que clasificó es',sudam_ronda2_v3[0],'o es de',sudam_ronda2_v3[1],'%')"
   ]
  },
  {
   "cell_type": "markdown",
   "id": "5311ab89-2f5d-483f-bd56-1ddceaa07147",
   "metadata": {},
   "source": [
    "c.pertenecer a África, si se sabe que ganó al menos un partidoµ"
   ]
  },
  {
   "cell_type": "code",
   "execution_count": 31,
   "id": "5d8c8dbe-1e53-4fd7-9e42-e6bc17be6ded",
   "metadata": {},
   "outputs": [
    {
     "name": "stdout",
     "output_type": "stream",
     "text": [
      "La probabilidad de pertenecer a África si se sabe que ganó al menos un partido 0.13043478260869565 o es de 13.0 %\n"
     ]
    }
   ],
   "source": [
    "africa_win1_v2=prob2(africa & win1,win1.sum())\n",
    "print ('La probabilidad de pertenecer a África si se sabe que ganó al menos un partido',africa_win1_v2[0],'o es de',africa_win1_v2[1],'%')"
   ]
  },
  {
   "cell_type": "markdown",
   "id": "2eda7978-6e01-4ff3-947b-dbbff53f49db",
   "metadata": {},
   "source": [
    "d.haber ganado al menos un partido, si se sabe que clasificó"
   ]
  },
  {
   "cell_type": "code",
   "execution_count": 32,
   "id": "08e9b344-b578-4b0e-bfe7-39e80ebf3b05",
   "metadata": {},
   "outputs": [
    {
     "name": "stdout",
     "output_type": "stream",
     "text": [
      "La probabilidad de haber ganado al menos 1 partido si se sabe que clasificó es 1.0 o es de 100.0 %\n"
     ]
    }
   ],
   "source": [
    "win1_ronda2_v2=prob2(win1 & ronda2,ronda2.sum())\n",
    "print ('La probabilidad de haber ganado al menos 1 partido si se sabe que clasificó es',win1_ronda2_v2[0],'o es de',win1_ronda2_v2[1],'%')"
   ]
  },
  {
   "cell_type": "markdown",
   "id": "ca888836-b1f9-4d86-91d7-48ee8910a83d",
   "metadata": {},
   "source": [
    "e.haber ganado al menos un partido, si se sabe que pertenece a Norteamérica"
   ]
  },
  {
   "cell_type": "code",
   "execution_count": 33,
   "id": "01be2041-d647-4a2d-b8fb-f8ffefd9aa77",
   "metadata": {},
   "outputs": [
    {
     "name": "stdout",
     "output_type": "stream",
     "text": [
      "La probabilidad de haber ganado al menos 1 partido si se sabe que es de Norteamérica es 0.75 o es de 75.0 %\n"
     ]
    }
   ],
   "source": [
    "win1_northam=prob2(win1 & northamerica,northamerica.sum())\n",
    "print ('La probabilidad de haber ganado al menos 1 partido si se sabe que es de Norteamérica es',win1_northam[0],'o es de',win1_northam[1],'%')"
   ]
  },
  {
   "cell_type": "markdown",
   "id": "7edf94ce-e53e-4346-8581-bccb403bf0cc",
   "metadata": {},
   "source": [
    "f.NO haber clasificado, si se sabe que pertenece a África"
   ]
  },
  {
   "cell_type": "code",
   "execution_count": 34,
   "id": "13892499-af22-4fd6-9975-f788ecc53959",
   "metadata": {},
   "outputs": [
    {
     "name": "stdout",
     "output_type": "stream",
     "text": [
      "La probabilidad de no clasificar si se sabe que es de África es 0.6 o es de un 60.0 %\n"
     ]
    }
   ],
   "source": [
    "ronda2_fail=data['clasificado']==0\n",
    "fail_africa = prob2(ronda2_fail & africa,africa.sum())\n",
    "print ('La probabilidad de no clasificar si se sabe que es de África es',fail_africa[0],'o es de un',fail_africa[1],'%')"
   ]
  },
  {
   "cell_type": "code",
   "execution_count": null,
   "id": "04c7f48a-91ca-4b97-b6b9-2248eebd632b",
   "metadata": {},
   "outputs": [],
   "source": []
  }
 ],
 "metadata": {
  "kernelspec": {
   "display_name": "Python 3 (ipykernel)",
   "language": "python",
   "name": "python3"
  },
  "language_info": {
   "codemirror_mode": {
    "name": "ipython",
    "version": 3
   },
   "file_extension": ".py",
   "mimetype": "text/x-python",
   "name": "python",
   "nbconvert_exporter": "python",
   "pygments_lexer": "ipython3",
   "version": "3.10.12"
  }
 },
 "nbformat": 4,
 "nbformat_minor": 5
}
