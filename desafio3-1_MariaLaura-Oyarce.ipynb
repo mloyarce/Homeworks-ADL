{
 "cells": [
  {
   "cell_type": "markdown",
   "id": "da136ee6-4e74-40d1-bd3b-77e7c6a9f5ef",
   "metadata": {},
   "source": [
    "## Desafío Estadística descriptiva y probabilidades (parte I) - Maria Laura Oyarce"
   ]
  },
  {
   "cell_type": "code",
   "execution_count": 1,
   "id": "2e29ce3b-dea0-44ae-b3cf-db7e7083d5a4",
   "metadata": {},
   "outputs": [],
   "source": [
    "#Importamos las librerías\n",
    "import pandas as pd\n",
    "import numpy as np"
   ]
  },
  {
   "cell_type": "code",
   "execution_count": 2,
   "id": "b31c6d2d-f87a-41bf-9ebf-9d9247c16858",
   "metadata": {},
   "outputs": [
    {
     "data": {
      "text/html": [
       "<div>\n",
       "<style scoped>\n",
       "    .dataframe tbody tr th:only-of-type {\n",
       "        vertical-align: middle;\n",
       "    }\n",
       "\n",
       "    .dataframe tbody tr th {\n",
       "        vertical-align: top;\n",
       "    }\n",
       "\n",
       "    .dataframe thead th {\n",
       "        text-align: right;\n",
       "    }\n",
       "</style>\n",
       "<table border=\"1\" class=\"dataframe\">\n",
       "  <thead>\n",
       "    <tr style=\"text-align: right;\">\n",
       "      <th></th>\n",
       "      <th>work_year</th>\n",
       "      <th>experience_level</th>\n",
       "      <th>employment_type</th>\n",
       "      <th>job_title</th>\n",
       "      <th>salary</th>\n",
       "      <th>salary_currency</th>\n",
       "      <th>salary_in_usd</th>\n",
       "      <th>employee_residence</th>\n",
       "      <th>remote_ratio</th>\n",
       "      <th>company_location</th>\n",
       "      <th>company_size</th>\n",
       "    </tr>\n",
       "  </thead>\n",
       "  <tbody>\n",
       "    <tr>\n",
       "      <th>0</th>\n",
       "      <td>2023</td>\n",
       "      <td>SE</td>\n",
       "      <td>FT</td>\n",
       "      <td>Principal Data Scientist</td>\n",
       "      <td>80000</td>\n",
       "      <td>EUR</td>\n",
       "      <td>85847</td>\n",
       "      <td>ES</td>\n",
       "      <td>100</td>\n",
       "      <td>ES</td>\n",
       "      <td>L</td>\n",
       "    </tr>\n",
       "    <tr>\n",
       "      <th>1</th>\n",
       "      <td>2023</td>\n",
       "      <td>MI</td>\n",
       "      <td>CT</td>\n",
       "      <td>ML Engineer</td>\n",
       "      <td>30000</td>\n",
       "      <td>USD</td>\n",
       "      <td>30000</td>\n",
       "      <td>US</td>\n",
       "      <td>100</td>\n",
       "      <td>US</td>\n",
       "      <td>S</td>\n",
       "    </tr>\n",
       "    <tr>\n",
       "      <th>2</th>\n",
       "      <td>2023</td>\n",
       "      <td>MI</td>\n",
       "      <td>CT</td>\n",
       "      <td>ML Engineer</td>\n",
       "      <td>25500</td>\n",
       "      <td>USD</td>\n",
       "      <td>25500</td>\n",
       "      <td>US</td>\n",
       "      <td>100</td>\n",
       "      <td>US</td>\n",
       "      <td>S</td>\n",
       "    </tr>\n",
       "    <tr>\n",
       "      <th>3</th>\n",
       "      <td>2023</td>\n",
       "      <td>SE</td>\n",
       "      <td>FT</td>\n",
       "      <td>Data Scientist</td>\n",
       "      <td>175000</td>\n",
       "      <td>USD</td>\n",
       "      <td>175000</td>\n",
       "      <td>CA</td>\n",
       "      <td>100</td>\n",
       "      <td>CA</td>\n",
       "      <td>M</td>\n",
       "    </tr>\n",
       "    <tr>\n",
       "      <th>4</th>\n",
       "      <td>2023</td>\n",
       "      <td>SE</td>\n",
       "      <td>FT</td>\n",
       "      <td>Data Scientist</td>\n",
       "      <td>120000</td>\n",
       "      <td>USD</td>\n",
       "      <td>120000</td>\n",
       "      <td>CA</td>\n",
       "      <td>100</td>\n",
       "      <td>CA</td>\n",
       "      <td>M</td>\n",
       "    </tr>\n",
       "  </tbody>\n",
       "</table>\n",
       "</div>"
      ],
      "text/plain": [
       "   work_year experience_level employment_type                 job_title  \\\n",
       "0       2023               SE              FT  Principal Data Scientist   \n",
       "1       2023               MI              CT               ML Engineer   \n",
       "2       2023               MI              CT               ML Engineer   \n",
       "3       2023               SE              FT            Data Scientist   \n",
       "4       2023               SE              FT            Data Scientist   \n",
       "\n",
       "   salary salary_currency  salary_in_usd employee_residence  remote_ratio  \\\n",
       "0   80000             EUR          85847                 ES           100   \n",
       "1   30000             USD          30000                 US           100   \n",
       "2   25500             USD          25500                 US           100   \n",
       "3  175000             USD         175000                 CA           100   \n",
       "4  120000             USD         120000                 CA           100   \n",
       "\n",
       "  company_location company_size  \n",
       "0               ES            L  \n",
       "1               US            S  \n",
       "2               US            S  \n",
       "3               CA            M  \n",
       "4               CA            M  "
      ]
     },
     "execution_count": 2,
     "metadata": {},
     "output_type": "execute_result"
    }
   ],
   "source": [
    "#Cargamos los datos y chequeamos las primeras filas para ver la información\n",
    "data = pd.read_csv(\"ds_salaries.csv\")\n",
    "data.head()"
   ]
  },
  {
   "cell_type": "markdown",
   "id": "1d16ec43-4f34-48c2-8341-708c581221be",
   "metadata": {},
   "source": [
    "#### El conjunto de datos contiene un informe salarial fabricado en el que puedes realizar análisis para tratar de estimar el salario basado en las condiciones dadas. Se busca realizar un análisis estadístico de estos salarios, considerando:"
   ]
  },
  {
   "cell_type": "markdown",
   "id": "d36875b7-d8bd-4fe4-8148-db87c9f0d607",
   "metadata": {},
   "source": [
    "#### 1. El promedio general de los salarios, desviación estándar, quintiles y rango. (hint: escoge la columna adecuada para comparar)"
   ]
  },
  {
   "cell_type": "code",
   "execution_count": 3,
   "id": "ddbeae77-8ccc-4a8a-a180-89abac7a8f4a",
   "metadata": {},
   "outputs": [
    {
     "name": "stdout",
     "output_type": "stream",
     "text": [
      "Indicadores generales de salarios:\n",
      "Promedio: 137570.39 USD\n",
      "Desviación estándar: 63055.63 USD\n",
      "Quintiles:\n",
      "0.2     83972.8\n",
      "0.4    120000.0\n",
      "0.6    149850.0\n",
      "0.8    185900.0\n",
      "1.0    450000.0\n",
      "Name: salary_in_usd, dtype: float64\n",
      "Rango: 444868 USD\n"
     ]
    }
   ],
   "source": [
    "#Extraemos la información de los salarios en dólares\n",
    "salarios=data['salary_in_usd']\n",
    "\n",
    "#Calculamos las medidas de tendencia (general, dispersión e indicadores de posición)\n",
    "mean=salarios.mean()\n",
    "std=salarios.std()\n",
    "quin=salarios.quantile([0.2, 0.4, 0.6, 0.8, 1.0])\n",
    "range=salarios.max() - salarios.min()\n",
    "\n",
    "print('Indicadores generales de salarios:')\n",
    "print('Promedio:',round(mean,2),'USD')\n",
    "print('Desviación estándar:', round(std,2),'USD')\n",
    "print('Quintiles:')\n",
    "print(quin)\n",
    "print('Rango:', range,'USD')"
   ]
  },
  {
   "cell_type": "markdown",
   "id": "b1e9895c-f39c-4c6f-a53f-ca4431afed8d",
   "metadata": {},
   "source": [
    "#### 2. Una comparación entre los salarios agrupados por 3 diferentes categorías a tu elección. ¿Para cuál de ellas las medidas de tendencia central son más representativas? ¿Para cuál son menos representativas? Explica."
   ]
  },
  {
   "cell_type": "code",
   "execution_count": 4,
   "id": "daeded65-075d-428a-b536-e4e802a25cad",
   "metadata": {},
   "outputs": [
    {
     "name": "stdout",
     "output_type": "stream",
     "text": [
      "Análisis por categoría: experience_level\n",
      "                           mean    median           std  count\n",
      "experience_level                                              \n",
      "EX                194930.929825  196000.0  70661.929661    114\n",
      "SE                153051.071542  146000.0  56896.263954   2516\n",
      "MI                104525.939130  100000.0  54387.685128    805\n",
      "EN                 78546.284375   70000.0  52225.424309    320\n",
      "\n",
      "Análisis por categoría: employment_type\n",
      "                          mean    median            std  count\n",
      "employment_type                                               \n",
      "FT               138314.199570  135000.0   62452.177613   3718\n",
      "CT               113446.900000   75000.0  130176.746842     10\n",
      "FL                51807.800000   50000.0   29458.879336     10\n",
      "PT                39533.705882   21669.0   38312.145181     17\n",
      "\n",
      "Análisis por categoría: company_size\n",
      "                       mean    median           std  count\n",
      "company_size                                              \n",
      "M             143130.548367  140000.0  58992.813382   3153\n",
      "L             118300.982379  108500.0  75832.391505    454\n",
      "S              78226.682432   62146.0  61955.141792    148\n",
      "\n"
     ]
    }
   ],
   "source": [
    "#Compararemos los salarios por nivel de experiencia, tipo de contrato y tamaño de la empresa\n",
    "categorias=['experience_level', 'employment_type', 'company_size']\n",
    "\n",
    "for categoria in categorias:\n",
    "    print('Análisis por categoría:', categoria)\n",
    "    comparacion=data.groupby(categoria)['salary_in_usd'].agg(['mean', 'median', 'std', 'count'])\n",
    "    print(comparacion.sort_values(by='mean', ascending=False))\n",
    "    print('')"
   ]
  },
  {
   "cell_type": "markdown",
   "id": "6d485f1e-541f-4376-aa96-111368c3ec00",
   "metadata": {},
   "source": [
    "En general, las medidas de tendencia central son más representativas cuando la media y la mediana tienen valores cercanos, la desviación estándar es relativamente baja, lo que indicará menos dispersión en los datos, y por último el tamaño de la muestra es grande, ya que da mayor estabilidad a los cálculos.\n",
    "Y son menos representativas cuando existe una gran diferencia entre la media y la mediana, ya que puede indicar valores extremos (la media se ve afectado por los valores extremos, pero la mediana no), la desviación estándar es alta, lo que sugiere una gran variabilidad en los datos, y el tamaño de la muestra es muy pequeño, lo que hace que los resultados son más susceptibles a valores atípicos.\n",
    "\n",
    "En nuestro caso de estudio las medidas de tendencia son más representativas en:\n",
    "\n",
    "- experience_level en la categoría SE\n",
    "- employment_type en la categoría FT\n",
    "- company_size en la categoría M\n",
    "\n",
    "Y son menos representativas en:\n",
    "\n",
    "- experience_level en la categoría EX\n",
    "- employment_type en la categoría CT\n",
    "- company_size en la categoría S"
   ]
  },
  {
   "cell_type": "markdown",
   "id": "53638d15-4a98-4c2a-8762-47c1d161af91",
   "metadata": {},
   "source": [
    "#### 3. ¿Qué cargos reciben mejores sueldos en las empresas con sede en Estados Unidos?"
   ]
  },
  {
   "cell_type": "code",
   "execution_count": 5,
   "id": "b675031c-6b70-4b42-938d-4fbe49c583a6",
   "metadata": {},
   "outputs": [
    {
     "name": "stdout",
     "output_type": "stream",
     "text": [
      "Cargos mejor remunerados en empresas de EE. UU.:\n",
      "                                             mean    median            std  \\\n",
      "job_title                                                                    \n",
      "Data Analytics Lead                 405000.000000  405000.0            NaN   \n",
      "Data Science Tech Lead              375000.000000  375000.0            NaN   \n",
      "Director of Data Science            294375.000000  287500.0   52912.404028   \n",
      "Principal Data Scientist            255500.000000  227500.0  113079.617969   \n",
      "Cloud Data Architect                250000.000000  250000.0            NaN   \n",
      "Applied Data Scientist              238000.000000  177000.0  123381.522117   \n",
      "Head of Data                        233183.333333  220000.0   59762.209352   \n",
      "Machine Learning Software Engineer  217400.000000  180000.0  109196.153778   \n",
      "Data Lead                           212500.000000  212500.0   17677.669530   \n",
      "Head of Data Science                202355.000000  195800.0   75360.360104   \n",
      "\n",
      "                                    count  \n",
      "job_title                                  \n",
      "Data Analytics Lead                     1  \n",
      "Data Science Tech Lead                  1  \n",
      "Director of Data Science                4  \n",
      "Principal Data Scientist                4  \n",
      "Cloud Data Architect                    1  \n",
      "Applied Data Scientist                  3  \n",
      "Head of Data                            6  \n",
      "Machine Learning Software Engineer      5  \n",
      "Data Lead                               2  \n",
      "Head of Data Science                    5  \n"
     ]
    }
   ],
   "source": [
    "#Extraemos la info de las empresas solo localizadas en EEUU\n",
    "usa_data=data[data['company_location'] == 'US']\n",
    "\n",
    "#Calculamos las medidas agrupadas\n",
    "cargos_usa=usa_data.groupby('job_title')['salary_in_usd'].agg(['mean', 'median', 'std', 'count'])\n",
    "cargos_top=cargos_usa.sort_values(by='mean', ascending=False).head(10)\n",
    "\n",
    "print('Cargos mejor remunerados en empresas de EE. UU.:')\n",
    "print(cargos_top)"
   ]
  },
  {
   "cell_type": "markdown",
   "id": "7fcc1b34-3678-4a12-bd39-c5b150d02c16",
   "metadata": {},
   "source": [
    "Nota: Ojo con las conclusiones de esta útlima pregunta, hay muchos valores de salarios que están basado en un solo dato, por lo que pueden no ser representativos &#x1F440;"
   ]
  },
  {
   "cell_type": "code",
   "execution_count": null,
   "id": "ee1a9788-c869-4394-9a04-ef4b52ae6514",
   "metadata": {},
   "outputs": [],
   "source": []
  }
 ],
 "metadata": {
  "kernelspec": {
   "display_name": "Python 3 (ipykernel)",
   "language": "python",
   "name": "python3"
  },
  "language_info": {
   "codemirror_mode": {
    "name": "ipython",
    "version": 3
   },
   "file_extension": ".py",
   "mimetype": "text/x-python",
   "name": "python",
   "nbconvert_exporter": "python",
   "pygments_lexer": "ipython3",
   "version": "3.10.12"
  }
 },
 "nbformat": 4,
 "nbformat_minor": 5
}
